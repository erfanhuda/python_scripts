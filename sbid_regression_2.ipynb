{
 "cells": [
  {
   "cell_type": "markdown",
   "metadata": {},
   "source": [
    "**SBID ECL Modeling - Run Multiple Regression** <br><br>_Required library: pandas, numpy, scipy, sklearn, itertools, statsmodels, matplotlib_"
   ]
  },
  {
   "cell_type": "code",
   "execution_count": 1,
   "metadata": {},
   "outputs": [],
   "source": [
    "from pathlib import Path\n",
    "import pandas as pd\n",
    "import numpy as np\n",
    "from scipy import stats\n",
    "from sklearn.feature_selection import f_regression\n",
    "from sklearn.linear_model import LinearRegression\n",
    "from sklearn.model_selection import train_test_split\n",
    "from sklearn.metrics import r2_score, mean_absolute_percentage_error, mean_absolute_error, mean_squared_error\n",
    "from statsmodels.tsa.stattools import grangercausalitytests, adfuller\n",
    "from statsmodels.tsa.api import VAR\n",
    "import statsmodels.api as sm\n",
    "import matplotlib.pyplot as plt\n",
    "import itertools\n",
    "import time\n",
    "\n",
    "t_start = time.time()"
   ]
  },
  {
   "cell_type": "markdown",
   "metadata": {},
   "source": [
    "**Setup Model Arguments**"
   ]
  },
  {
   "cell_type": "code",
   "execution_count": 2,
   "metadata": {},
   "outputs": [],
   "source": [
    "model_args = {\n",
    "    'BASE' : \"C:\\\\Users\\\\muhammad.huda\\\\Documents\\\\python\\\\python_scripts\\\\file\\\\input\\\\model_Q124\"\n",
    "    ,'OUTPUT' : \"C:\\\\Users\\\\muhammad.huda\\\\Documents\\\\python\\\\python_scripts\\\\file\\\\input\\\\model_Q124\\\\output\"\n",
    "    ,'MEV_DATA' : \"seabank_data.csv\"\n",
    "    ,'ODR_MOM' : \"pd_odr_mom.csv\"\n",
    "    ,'ODR_QOQ' : \"pd_odr_qoq.csv\"\n",
    "    ,'ODR_HOH' : \"pd_odr_hoh.csv\"\n",
    "    ,'ODR_YOY' : \"pd_odr_yoy.csv\"\n",
    "    ,'USE_ODR' : 'hoh'\n",
    "    ,'drop_products': ['Digital_KPL', 'Digital_EML']\n",
    "    ,'suffix': ''\n",
    "    ,'y_transform': 'normal'\n",
    "}\n",
    "\n",
    "expected_correlation = {\n",
    "    'GDP': -1,\n",
    "    'USDIDR': 1,\n",
    "    'CPI': 1,\n",
    "    'BIREPO': 1,\n",
    "    'UNEMPLOYMENT': 1\n",
    "}\n",
    "\n",
    "model_start = {\n",
    "    \"Digital_BCL_2\": '2021-11-30',\n",
    "    \"Digital_BCL_3\": '2021-11-30',\n",
    "    \"Digital_BCL_6\": '2021-11-30',\n",
    "    \"Digital_BCL_12\": '2021-11-30',\n",
    "    \"Digital_SCL_3\": '2022-05-31',\n",
    "    \"Digital_SCL_6\": '2022-05-31',\n",
    "    \"Digital_SCL_12\": '2022-05-31',\n",
    "    \"Digital_SPL_1\": '2021-10-31',\n",
    "    \"Digital_SPL_3\": '2021-06-30',\n",
    "    \"Digital_SPL_6\": '2021-06-30',\n",
    "    \"Digital_SPL_12\": '2021-06-30',\n",
    "    # \"Digital_SPL_18\": '2023-07-31',\n",
    "    # \"Digital_SPL_24\": '2023-07-31',\n",
    "    # \"Digital_AKL_6\": '2023-04-30',\n",
    "    # \"Digital_EAL_6\": '2023-08-31',\n",
    "    # \"Digital_AKL_9\": '2023-07-31',\n",
    "    # \"Digital_AKL_1\": '2023-08-31',\n",
    "    # \"Digital_AKL_3\": '2023-08-31',\n",
    "    # \"Digital_RCL_2\": '2023-08-31',\n",
    "    # \"Digital_RCL_3\": '2023-08-31',\n",
    "    # \"Digital_PYL_24\": '2023-08-31',\n",
    "    # \"Digital_EAL_6\": '2023-08-31',\n",
    "    # \"Digital_RCL_1\": '2023-08-31',\n",
    "    # \"Digital_EAL_4\": '2023-08-31',\n",
    "    # \"Digital_EAL_8\": '2023-08-31',\n",
    "    # \"Digital_AKL_2\": '2023-08-31',\n",
    "    # \"Digital_EAL_2\": '2023-08-31',\n",
    "    # \"Digital_RCL_4\": '2023-08-31',\n",
    "    # \"Digital_PYL_12\": '2023-08-31',\n",
    "    # \"Digital_PYL_6\": '2023-08-31',\n",
    "    # \"Digital_PYL_18\": '2023-08-31',\n",
    "}"
   ]
  },
  {
   "cell_type": "markdown",
   "metadata": {},
   "source": [
    "**Read data from CSV**"
   ]
  },
  {
   "cell_type": "code",
   "execution_count": 4,
   "metadata": {},
   "outputs": [],
   "source": [
    "try:\n",
    "    match model_args['USE_ODR']:\n",
    "        case 'mom':\n",
    "            y_odr = pd.read_csv(Path().joinpath(model_args['BASE'], model_args['ODR_MOM']), sep = \",\",decimal=\".\", parse_dates=[\"pt_date\"],dtype={\"odr_loan\": float})\n",
    "        case 'qoq':\n",
    "            y_odr = pd.read_csv(Path().joinpath(model_args['BASE'], model_args['ODR_QOQ']), sep = \",\",decimal=\".\", parse_dates=[\"pt_date\"],dtype={\"odr_loan\": float})\n",
    "        case 'hoh':\n",
    "            y_odr = pd.read_csv(Path().joinpath(model_args['BASE'], model_args['ODR_HOH']), sep = \",\",decimal=\".\", parse_dates=[\"pt_date\"],dtype={\"odr_loan\": float})\n",
    "        case 'yoy':\n",
    "            y_odr = pd.read_csv(Path().joinpath(model_args['BASE'], model_args['ODR_YOY']), sep = \",\",decimal=\".\", parse_dates=[\"pt_date\"],dtype={\"odr_loan\": float})\n",
    "        case _:\n",
    "            raise ValueError(\"Check variable USE_ODR\")\n",
    "\n",
    "except AttributeError:\n",
    "    raise AttributeError(\"No argument USE_ODR\")"
   ]
  },
  {
   "cell_type": "markdown",
   "metadata": {},
   "source": [
    "**Data loads and multiindex view for ODR variables (y-variable) of each product & tenor**"
   ]
  },
  {
   "cell_type": "code",
   "execution_count": 5,
   "metadata": {},
   "outputs": [],
   "source": [
    "try:\n",
    "    if len(model_args['drop_columns']) > 0:\n",
    "        y_odr = y_odr.pivot(index=\"pt_date\",columns=[\"pd_segment\", \"tenor\"], values=\"odr_loan\").drop(axis=1,columns=model_args['drop_products']).fillna(0.0)\n",
    "    else:\n",
    "        y_odr = y_odr.pivot(index=\"pt_date\",columns=[\"pd_segment\", \"tenor\"], values=\"odr_loan\").fillna(0.0)\n",
    "        \n",
    "except KeyError:\n",
    "    y_odr = y_odr.pivot(index=\"pt_date\",columns=[\"pd_segment\", \"tenor\"], values=\"odr_loan\").fillna(0.0)\n",
    "\n",
    "product_df = ['_'.join(map(str,x)) for x in y_odr.columns.to_list()]\n",
    "odr_df = [y_odr.iloc[:, x].rename(product_df[x])for x in range(y_odr.shape[1])]\n",
    "odr_df = [x for x in odr_df if x.name in model_start] # Additional filtering based on arguments testing\n",
    "odr_df = [x[pd.Timestamp(model_start[x.name]):] for x in odr_df] # Additional filtering date_model for remove the leading zero of ODR normal\n",
    "\n",
    "match model_args['y_transform']:\n",
    "    case 'z_score':\n",
    "        odr_df = [(x - x.mean()) / x.std(ddof=0) for x in odr_df] # Z_Score transform\n",
    "    case 'log_n':\n",
    "        odr_df = [np.log(x.fillna(0.0)) for x in odr_df] # Logarithmic Natural transform\n",
    "    case 'log_2':\n",
    "        odr_df = [np.log2(x) for x in odr_df] # Log base 2 transform\n",
    "    case 'log_10':\n",
    "        odr_df = [np.log10(x) for x in odr_df] # Log base 10 transform\n",
    "    case 'MA_1':\n",
    "        odr_df = [x.rolling(window=1).mean() for x in odr_df] # Moving average 1M transform\n",
    "    case 'normal':\n",
    "        odr_df = [x for x in odr_df] # Normal without transform\n",
    "    case _:\n",
    "        odr_df = [x for x in odr_df] # Normal by default"
   ]
  },
  {
   "cell_type": "markdown",
   "metadata": {},
   "source": [
    "**Data load Macroeconomic variable**"
   ]
  },
  {
   "cell_type": "code",
   "execution_count": 6,
   "metadata": {},
   "outputs": [
    {
     "name": "stderr",
     "output_type": "stream",
     "text": [
      "C:\\Users\\muhammad.huda\\AppData\\Local\\Temp\\ipykernel_29572\\1002325739.py:1: UserWarning: Parsing dates in %d/%m/%Y format when dayfirst=False (the default) was specified. Pass `dayfirst=True` or specify a format to silence this warning.\n",
      "  x_mev = pd.read_csv(Path().joinpath(model_args['BASE'], model_args['MEV_DATA']),sep=\";\",decimal=\",\", index_col=['Date'],parse_dates=[\"Date\"]).fillna(0.0)\n"
     ]
    }
   ],
   "source": [
    "x_mev = pd.read_csv(Path().joinpath(model_args['BASE'], model_args['MEV_DATA']),sep=\";\",decimal=\",\", index_col=['Date'],parse_dates=[\"Date\"]).fillna(0.0)\n",
    "x_mev.index = x_mev.index.to_period(\"M\").to_timestamp(\"M\")"
   ]
  },
  {
   "cell_type": "markdown",
   "metadata": {},
   "source": [
    "**Do Pearson-Correlation for MEV dataset and MEV dataset with each y-variable**"
   ]
  },
  {
   "cell_type": "code",
   "execution_count": 7,
   "metadata": {},
   "outputs": [],
   "source": [
    "x_corr = x_mev.corr(method=\"pearson\", numeric_only=True)\n",
    "\n",
    "corr_pairwise = ((x.name, x_mev.merge(x,left_index=True, right_index=True, how=\"inner\")) for x in odr_df)\n",
    "corr_pairwise = [(x[0],x[1].corr()) for x in corr_pairwise]"
   ]
  },
  {
   "cell_type": "markdown",
   "metadata": {},
   "source": [
    "**Make 1-pairwise x and y-variable for SFA**"
   ]
  },
  {
   "cell_type": "code",
   "execution_count": 10,
   "metadata": {},
   "outputs": [],
   "source": [
    "permutate = itertools.combinations(x_mev.columns.to_list(), r=1)\n",
    "sfa_df = [x_mev.copy()[x[0]] for x in list(permutate)]\n",
    "sfa_df = [(y.name, pd.concat([x, y.to_frame(name=\"odr_loan\")], axis=1).fillna(0.0)) for y in odr_df for x in sfa_df]"
   ]
  },
  {
   "cell_type": "markdown",
   "metadata": {},
   "source": [
    "**Make 2-pairwise x and y-variable for MFA**"
   ]
  },
  {
   "cell_type": "code",
   "execution_count": 11,
   "metadata": {},
   "outputs": [],
   "source": [
    "permutate = itertools.combinations(x_mev.columns.to_list(), r=2)\n",
    "mfa_df = [x_mev.copy()[[x[0],x[1]]] for x in list(permutate)]\n",
    "mfa_df = [(y.name, x.merge(y.to_frame(name=\"odr_loan\"),left_index=True, right_index=True, how=\"inner\").fillna(0.0)) for y in odr_df for x in mfa_df]"
   ]
  },
  {
   "cell_type": "markdown",
   "metadata": {},
   "source": [
    "**Regression Testing Load: Using Multiple Regression**"
   ]
  },
  {
   "cell_type": "code",
   "execution_count": 12,
   "metadata": {},
   "outputs": [
    {
     "data": {
      "text/plain": [
       "{'count_1pairs': 451, 'count_2pairs': 9020}"
      ]
     },
     "execution_count": 12,
     "metadata": {},
     "output_type": "execute_result"
    }
   ],
   "source": [
    "lr_sfa_pairwise = [{'model': f'{x[0]}_{i}', 'mev':x[1].drop([\"odr_loan\"], axis=1), 'odr_loan':x[1]['odr_loan']} for i, x in enumerate(sfa_df)]\n",
    "lr_mfa_pairwise = [{'model': f'{x[0]}_{i}', 'mev':x[1].drop([\"odr_loan\"], axis=1), 'odr_loan':x[1]['odr_loan']} for i, x in enumerate(mfa_df)]\n",
    "\n",
    "model_count = {'count_1pairs': len(lr_sfa_pairwise), 'count_2pairs':len(lr_mfa_pairwise)}\n",
    "model_count"
   ]
  },
  {
   "cell_type": "markdown",
   "metadata": {},
   "source": [
    "**1_Single SFA Regression**"
   ]
  },
  {
   "cell_type": "code",
   "execution_count": 15,
   "metadata": {},
   "outputs": [],
   "source": [
    "sfa_models = [{\"id\": i, \"product\": x[0], 'model': f'{\"X\".join(x[1].columns)}','min_date':x[1].index.min(),'max_date':x[1].index.max(),'y': x[1]['odr_loan'], 'x':x[1].drop(['odr_loan'], axis=1)} for i, x in enumerate(sfa_df)]\n",
    "sfa_result = []\n",
    "\n",
    "for item in sfa_models:\n",
    "    y = item['y']\n",
    "    x = item['x']\n",
    "    \n",
    "    lr = LinearRegression()\n",
    "    _run = lr.fit(x, y)\n",
    "    \n",
    "    _result = {\"id\": item['id'], \"product\": item['product'], \"start_date\": item['min_date'],\"end_date\": item['max_date'], \"x\": item['x'].columns[0], \"y\": item['y'].name}\n",
    "    _result['pearson_dep_x1'] = [t[1] for t in corr_pairwise if t[0] == item['product']][0].loc[item['product'],x.columns[0]]\n",
    "    _result['intercept'] = _run.intercept_\n",
    "    _result['coef'] = _run.coef_\n",
    "    _result['f_statistic'], _result['p_value'] = f_regression(x, y)\n",
    "\n",
    "    y_fitted = lr.predict(x)\n",
    "    _result['r2_score'] = r2_score(y, y_fitted)\n",
    "    _result['mape'] = mean_absolute_percentage_error(y, y_fitted)\n",
    "    _result['mae'] = mean_absolute_error(y, y_fitted)\n",
    "    _result['rmse'] = np.sqrt(mean_squared_error(y, y_fitted))\n",
    "\n",
    "    _result['treshold1'] = np.where((_result['p_value'] < 0.05) & (_result['r2_score'] > 0.6), \"Y\", \"N\")\n",
    "    _result['treshold2'] = np.where((_result['p_value'] < 0.05) & (_result['r2_score'] > 0.5), \"Y\", \"N\")\n",
    "    _result['treshold3'] = np.where((_result['p_value'] < 0.1) & (_result['r2_score'] > 0.4), \"Y\", \"N\")\n",
    "\n",
    "    item['y_fitted'] = y_fitted\n",
    "    sfa_result.append(_result)"
   ]
  },
  {
   "cell_type": "markdown",
   "metadata": {},
   "source": [
    "**2_Combination MFA Regression**"
   ]
  },
  {
   "cell_type": "code",
   "execution_count": null,
   "metadata": {},
   "outputs": [],
   "source": [
    "mfa_models = [{\"id\": i, \"product\": x[0], 'model': f'{\"X\".join(x[1].columns)}','min_date':x[1].index.min(),'max_date':x[1].index.max(),'y': x[1]['odr_loan'], 'xs':x[1].drop(['odr_loan'], axis=1)} for i, x in enumerate(mfa_df)]\n",
    "mfa_result = []\n",
    "base_mev_col = [x for x in mfa_models for y in x_mev.columns if y.upper().find(x) != -1]\n",
    "\n",
    "for item in mfa_models:\n",
    "    y = item['y']\n",
    "    x = item['xs']\n",
    "    \n",
    "    lr = LinearRegression()\n",
    "    _run = lr.fit(x, y)\n",
    "    \n",
    "    _result = {\"id\": item['id'], \"product\": item['product'], \"start_date\": item['min_date'],\"end_date\": item['max_date'],\"x1\": item['xs'].columns[0], \"x2\": item['xs'].columns[1], \"y\": item['y'].name}\n",
    "    _result['corr_x1_x2'] = x_corr.loc[x.columns[0],x.columns[1]]\n",
    "    _result['corr_dep_x1'] = [t[1] for t in corr_pairwise if t[0] == item['product']][0].loc[item['product'],x.columns[0]]\n",
    "    _result['corr_dep_x2'] = [t[1] for t in corr_pairwise if t[0] == item['product']][0].loc[item['product'],x.columns[1]]\n",
    "    _result['intercept'] = _run.intercept_\n",
    "    _result['coef_1'] = _run.coef_[0]\n",
    "    _result['coef_2'] = _run.coef_[1]\n",
    "\n",
    "    _f_result = f_regression(x, y)\n",
    "    _result['f_statistic_1'] = _f_result[0][0]\n",
    "    _result['f_statistic_2'] = _f_result[0][1]\n",
    "    _result['p_value_1'] = _f_result[1][0]\n",
    "    _result['p_value_2'] = _f_result[1][1]\n",
    "\n",
    "    y_fitted = lr.predict(x)\n",
    "    _result['r2_score'] = r2_score(y, y_fitted)\n",
    "    _result['mape'] = mean_absolute_percentage_error(y, y_fitted)\n",
    "    _result['mae'] = mean_absolute_error(y, y_fitted)\n",
    "    _result['rmse'] = np.sqrt(mean_squared_error(y, y_fitted))\n",
    "\n",
    "    # _result['hypotheses'] = np.where((_result['p_value_1'] < 0.05) & (_result['p_value_2'] < 0.05) & (_result['r2_score'] > 0.6), \"Y\", \"N\")\n",
    "    _result['treshold_1'] = np.where((_result['p_value_1'] < 0.05) & (_result['p_value_2'] < 0.05) & (_result['r2_score'] > 0.6), \"Y\", \"N\")\n",
    "    _result['treshold_2'] = np.where((_result['p_value_1'] < 0.05) & (_result['p_value_2'] < 0.05) & (_result['r2_score'] > 0.5), \"Y\", \"N\")\n",
    "    _result['treshold_3'] = np.where((_result['p_value_1'] < 0.1) & (_result['p_value_2'] < 0.1) & (_result['r2_score'] > 0.4), \"Y\", \"N\")\n",
    "\n",
    "    item['y_fitted'] = y_fitted\n",
    "    mfa_result.append(_result)"
   ]
  },
  {
   "cell_type": "markdown",
   "metadata": {},
   "source": [
    "**Save to file: <br>1. pearson-correlation mev <br>2. pearson-correlation odr_pairwise <br>3. SFA result <br>4. MFA 2-combination result <br>5. Model variables check**"
   ]
  },
  {
   "cell_type": "code",
   "execution_count": null,
   "metadata": {},
   "outputs": [],
   "source": [
    "sfa_result = pd.DataFrame(sfa_result)\n",
    "mfa_result = pd.DataFrame(mfa_result)\n",
    "\n",
    "y_odr.to_excel(Path().joinpath(model_args[\"OUTPUT\"], \"_\".join([model_args['USE_ODR'], model_args['suffix'],\"variable_list.xlsx\"])), sheet_name=\"odr\")\n",
    "\n",
    "\"\"\"Initiate the excel files by specified the contents in full output\"\"\"\n",
    "x_corr.to_excel(Path().joinpath(model_args[\"OUTPUT\"], \"_\".join([model_args['USE_ODR'], model_args['suffix'],\"pearson_corr.xlsx\"])), sheet_name=\"MEV\")\n",
    "sfa_result.to_excel(Path().joinpath(model_args[\"OUTPUT\"], \"_\".join([model_args['USE_ODR'], model_args['suffix'],\"sfa_result.xlsx\"])), sheet_name=\"SFA_Result\")\n",
    "mfa_result.to_excel(Path().joinpath(model_args[\"OUTPUT\"], \"_\".join([model_args['USE_ODR'], model_args['suffix'],\"mfa_result.xlsx\"])), sheet_name=\"MFA_Result\")\n",
    "\n",
    "\"\"\"Append the MEV used for the models\"\"\"\n",
    "with pd.ExcelWriter(Path().joinpath(model_args[\"OUTPUT\"], \"_\".join([model_args['USE_ODR'], model_args['suffix'],\"variable_list.xlsx\"])),mode=\"a\") as w:\n",
    "    x_mev.to_excel(w, sheet_name='mev')\n",
    "\n",
    "\"\"\"Split and append the MFA result to follow the product respectively\"\"\"\n",
    "unique_product = mfa_result['product'].unique()\n",
    "with pd.ExcelWriter(Path().joinpath(model_args[\"OUTPUT\"], \"_\".join([model_args['USE_ODR'], model_args['suffix'],\"mfa_result.xlsx\"])),mode=\"a\") as w:\n",
    "    for item in unique_product:\n",
    "        query = mfa_result.query(f'product == \\\"{item}\\\"')\n",
    "        query.to_excel(w, sheet_name=item)\n",
    "\n",
    "\"\"\"Split and append the pearson correlation output based on the product respectively\"\"\"\n",
    "with pd.ExcelWriter(Path().joinpath(model_args[\"OUTPUT\"], \"_\".join([model_args['USE_ODR'], model_args['suffix'],\"pearson_corr.xlsx\"])),mode=\"a\") as w:\n",
    "    for i, item in enumerate(corr_pairwise):\n",
    "        model, data = item[0], item[1]\n",
    "        data.to_excel(w, sheet_name=f'{i}_{model}')\n",
    "\n",
    "\"\"\"Save the variable models used for the models in MFA, validate the length and stationary checking ad fuller testing\"\"\"\n",
    "check_result = []\n",
    "for item in mfa_models:\n",
    "    check = {'id': item['id'], 'product': item['product'], 'model': item['model'],'len_xs': len(item['xs']), 'len_y': len(item['y'])}\n",
    "    check_result.append(check)\n",
    "\n",
    "check_result = pd.DataFrame(check_result)\n",
    "with pd.ExcelWriter(Path().joinpath(model_args[\"OUTPUT\"], \"_\".join([model_args['USE_ODR'], model_args['suffix'],\"variable_list.xlsx\"])),mode=\"a\") as w:\n",
    "    check_result.to_excel(w, sheet_name='model_variable_check')\n",
    "\n",
    "\"\"\"Stationary Check Augmented Dickey-Fuller testing\"\"\"\n",
    "y_statistic = []\n",
    "\n",
    "for item in odr_df:\n",
    "    normal = {'product': item.name,'transform':'normal','ADF Statistic': adfuller(item)[0], 'p_value': adfuller(item)[1]}\n",
    "    z_score = {'product': item.name,'transform':'z_score','ADF Statistic': adfuller((item.fillna(0.0) - item.fillna(0.0).mean()) / item.fillna(0.0).std(ddof=0))[0], 'p_value': adfuller((item.fillna(0.0) - item.fillna(0.0).mean()) / item.fillna(0.0).std(ddof=0))[1]}\n",
    "    diff_1M = {'product': item.name,'transform':'diff_1M','ADF Statistic': adfuller((item.fillna(0.0)).diff()[1:])[0], 'p_value': adfuller((item.fillna(0.0)).diff()[1:])[1]}\n",
    "    moving_average_1M = {'product': item.name,'transform':'moving_average_1M','ADF Statistic': adfuller(item.fillna(0.0).rolling(window=1).mean())[0], 'p_value': adfuller(item.fillna(0.0).rolling(window=1).mean())[1]}\n",
    "    # log_n = {'product': item.name,'name':'log_n','ADF Statistic': adfuller(np.log(item.dropna()))[0], 'p_value': adfuller(np.log(item.dropna()))[1]}\n",
    "    \n",
    "    y_statistic.append(normal)\n",
    "    y_statistic.append(z_score)\n",
    "    y_statistic.append(diff_1M)\n",
    "    y_statistic.append(moving_average_1M)\n",
    "    # y_statistic.append(log_n)\n",
    "\n",
    "with pd.ExcelWriter(Path().joinpath(model_args[\"OUTPUT\"], \"_\".join([model_args['USE_ODR'], model_args['suffix'],\"variable_list.xlsx\"])),mode=\"a\") as w:\n",
    "    pd.DataFrame(y_statistic).to_excel(w, sheet_name='stationary_check')\n",
    "\n",
    "t_end = time.time()\n",
    "\n",
    "print(\"Success Running ...\")\n",
    "print(\"Script finished on: \", t_end - t_start)"
   ]
  }
 ],
 "metadata": {
  "kernelspec": {
   "display_name": "machine_learning",
   "language": "python",
   "name": "python3"
  },
  "language_info": {
   "codemirror_mode": {
    "name": "ipython",
    "version": 3
   },
   "file_extension": ".py",
   "mimetype": "text/x-python",
   "name": "python",
   "nbconvert_exporter": "python",
   "pygments_lexer": "ipython3",
   "version": "3.11.3"
  }
 },
 "nbformat": 4,
 "nbformat_minor": 2
}
