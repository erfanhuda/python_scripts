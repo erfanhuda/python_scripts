{
 "cells": [
  {
   "cell_type": "markdown",
   "metadata": {},
   "source": [
    "**ECL Modeling - Run Regression** <br><br>_Required library: pandas, numpy, scipy, sklearn, itertools, statsmodels, matplotlib_"
   ]
  },
  {
   "cell_type": "code",
   "execution_count": 1,
   "metadata": {},
   "outputs": [],
   "source": [
    "from pathlib import Path\n",
    "import pandas as pd\n",
    "import numpy as np\n",
    "from scipy import stats\n",
    "from sklearn.feature_selection import f_regression\n",
    "from sklearn.linear_model import LinearRegression\n",
    "from sklearn.model_selection import train_test_split\n",
    "from sklearn.metrics import r2_score, mean_absolute_percentage_error, mean_absolute_error, mean_squared_error\n",
    "from statsmodels.tsa.stattools import grangercausalitytests, adfuller\n",
    "from statsmodels.tsa.api import VAR\n",
    "import statsmodels.api as sm\n",
    "import matplotlib.pyplot as plt\n",
    "import itertools\n",
    "import time\n",
    "\n",
    "t_start = time.time()"
   ]
  },
  {
   "cell_type": "markdown",
   "metadata": {},
   "source": [
    "**Setup Model Arguments**"
   ]
  },
  {
   "cell_type": "code",
   "execution_count": 2,
   "metadata": {},
   "outputs": [],
   "source": [
    "model_args = {\n",
    "    'BASE' : \"D:\\\\Dev\\\\Seabank\\\\python_scripts\\\\file\\\\input\\\\model_Q124\"\n",
    "    ,'OUTPUT' : \"D:\\\\Dev\\\\Seabank\\\\python_scripts\\\\file\\\\input\\\\model_Q124\\\\output\"\n",
    "    ,'MEV_DATA' : \"seabank_data.csv\"\n",
    "    ,'ODR_MOM' : \"pd_odr_mom.csv\"\n",
    "    ,'ODR_QOQ' : \"pd_odr_qoq.csv\"\n",
    "    ,'ODR_HOH' : \"pd_odr_hoh.csv\"\n",
    "    ,'ODR_YOY' : \"pd_odr_yoy.csv\"\n",
    "    ,'USE_ODR' : 'mom'\n",
    "    ,'drop_products': ['Digital_KPL', 'Digital_EML']\n",
    "    ,'suffix': 'z_score'\n",
    "    ,'y_transform': 'z_score'\n",
    "}\n",
    "\n",
    "model_start = {\n",
    "    \"Digital_BCL_2\": '2021-11-30',\n",
    "    \"Digital_BCL_3\": '2021-11-30',\n",
    "    \"Digital_BCL_6\": '2021-11-30',\n",
    "    \"Digital_BCL_12\": '2021-11-30',\n",
    "    \"Digital_SPL_1\": '2021-10-31',\n",
    "    \"Digital_SPL_3\": '2021-06-30',\n",
    "    \"Digital_SPL_6\": '2021-06-30',\n",
    "    \"Digital_SPL_12\": '2021-06-30',\n",
    "    # \"Digital_SPL_18\": '2023-07-31',\n",
    "    # \"Digital_SPL_24\": '2023-07-31',\n",
    "    \"Digital_SCL_3\": '2022-05-31',\n",
    "    \"Digital_SCL_6\": '2022-05-31',\n",
    "    \"Digital_SCL_12\": '2022-05-31',\n",
    "    # \"Digital_AKL_6\": '2023-04-30',\n",
    "    # \"Digital_EAL_6\": '2023-08-31',\n",
    "    # \"Digital_AKL_9\": '2023-07-31',\n",
    "    # \"Digital_AKL_1\": '2023-08-31',\n",
    "    # \"Digital_AKL_3\": '2023-08-31',\n",
    "    # \"Digital_RCL_2\": '2023-08-31',\n",
    "    # \"Digital_RCL_3\": '2023-08-31',\n",
    "    # \"Digital_PYL_24\": '2023-08-31',\n",
    "    # \"Digital_EAL_6\": '2023-08-31',\n",
    "    \n",
    "    # \"Digital_RCL_1\": '2023-08-31',\n",
    "    # \"Digital_EAL_4\": '2023-08-31',\n",
    "    # \"Digital_EAL_8\": '2023-08-31',\n",
    "    # \"Digital_AKL_2\": '2023-08-31',\n",
    "    # \"Digital_EAL_2\": '2023-08-31',\n",
    "    # \"Digital_RCL_4\": '2023-08-31',\n",
    "    # \"Digital_PYL_12\": '2023-08-31',\n",
    "    # \"Digital_PYL_6\": '2023-08-31',\n",
    "    # \"Digital_PYL_18\": '2023-08-31',\n",
    "}"
   ]
  },
  {
   "cell_type": "markdown",
   "metadata": {},
   "source": [
    "**Read data from CSV**"
   ]
  },
  {
   "cell_type": "code",
   "execution_count": 3,
   "metadata": {},
   "outputs": [
    {
     "name": "stderr",
     "output_type": "stream",
     "text": [
      "C:\\Users\\ERFAN-HUDA\\AppData\\Local\\Temp\\ipykernel_12636\\689357511.py:4: UserWarning: Parsing dates in %d/%m/%Y format when dayfirst=False (the default) was specified. Pass `dayfirst=True` or specify a format to silence this warning.\n",
      "  y_odr = pd.read_csv(Path().joinpath(model_args['BASE'], model_args['ODR_MOM']), sep = \";\",decimal=\".\", parse_dates=[\"pt_date\"],dtype={\"odr_loan\": float})\n"
     ]
    }
   ],
   "source": [
    "try:\n",
    "    match model_args['USE_ODR']:\n",
    "        case 'mom':\n",
    "            y_odr = pd.read_csv(Path().joinpath(model_args['BASE'], model_args['ODR_MOM']), sep = \";\",decimal=\".\", parse_dates=[\"pt_date\"],dtype={\"odr_loan\": float})\n",
    "        case 'qoq':\n",
    "            y_odr = pd.read_csv(Path().joinpath(model_args['BASE'], model_args['ODR_QOQ']), sep = \";\",decimal=\".\", parse_dates=[\"pt_date\"],dtype={\"odr_loan\": float})\n",
    "        case 'hoh':\n",
    "            y_odr = pd.read_csv(Path().joinpath(model_args['BASE'], model_args['ODR_HOH']), sep = \";\",decimal=\".\", parse_dates=[\"pt_date\"],dtype={\"odr_loan\": float})\n",
    "        case 'yoy':\n",
    "            y_odr = pd.read_csv(Path().joinpath(model_args['BASE'], model_args['ODR_YOY']), sep = \";\",decimal=\".\", parse_dates=[\"pt_date\"],dtype={\"odr_loan\": float})\n",
    "        case _:\n",
    "            raise ValueError(\"Check variable USE_ODR\")\n",
    "\n",
    "except AttributeError:\n",
    "    raise AttributeError(\"No argument USE_ODR\")"
   ]
  },
  {
   "cell_type": "markdown",
   "metadata": {},
   "source": [
    "**Data loads and multiindex view for ODR variables (y-variable) of each product & tenor**"
   ]
  },
  {
   "cell_type": "code",
   "execution_count": 4,
   "metadata": {},
   "outputs": [],
   "source": [
    "try:\n",
    "    if len(model_args['drop_columns']) > 0:\n",
    "        y_odr = y_odr.pivot(index=\"pt_date\",columns=[\"pd_segment\", \"tenor\"], values=\"odr_loan\").drop(axis=1,columns=model_args['drop_products']).fillna(0.0)\n",
    "    else:\n",
    "        y_odr = y_odr.pivot(index=\"pt_date\",columns=[\"pd_segment\", \"tenor\"], values=\"odr_loan\").fillna(0.0)\n",
    "        \n",
    "except KeyError:\n",
    "    y_odr = y_odr.pivot(index=\"pt_date\",columns=[\"pd_segment\", \"tenor\"], values=\"odr_loan\").fillna(0.0)\n",
    "\n",
    "product_df = ['_'.join(map(str,x)) for x in y_odr.columns.to_list()]\n",
    "odr_df = [y_odr.iloc[:, x].rename(product_df[x])for x in range(y_odr.shape[1])]\n",
    "odr_df = [x for x in odr_df if x.name in model_start] # Additional filtering based on arguments testing\n",
    "odr_df = [x[pd.Timestamp(model_start[x.name]):] for x in odr_df] # Additional filtering date_model for remove the leading zero of ODR normal\n",
    "\n",
    "match model_args['y_transform']:\n",
    "    case 'z_score':\n",
    "        odr_df = [(x - x.mean()) / x.std(ddof=0) for x in odr_df] # Additional filtering date_model for remove the leading zero of ODR normal\n",
    "    case 'log_n':\n",
    "        odr_df = [np.log(x.fillna(0.0)) for x in odr_df] # Additional filtering date_model for remove the leading zero of ODR normal\n",
    "    case 'log_2':\n",
    "        odr_df = [np.log2(x) for x in odr_df] # Additional filtering date_model for remove the leading zero of ODR normal\n",
    "    case 'log_10':\n",
    "        odr_df = [np.log10(x) for x in odr_df] # Additional filtering date_model for remove the leading zero of ODR normal\n",
    "    case 'MA_1':\n",
    "        odr_df = [x.rolling(window=1).mean() for x in odr_df] # Additional filtering date_model for remove the leading zero of ODR normal\n",
    "    case 'normal':\n",
    "        odr_df = [x for x in odr_df] # Additional filtering date_model for remove the leading zero of ODR normal\n",
    "    case _:\n",
    "        odr_df = [x for x in odr_df] # Additional filtering date_model for remove the leading zero of ODR normal"
   ]
  },
  {
   "cell_type": "markdown",
   "metadata": {},
   "source": [
    "**Data load Macroeconomic variable**"
   ]
  },
  {
   "cell_type": "code",
   "execution_count": 5,
   "metadata": {},
   "outputs": [
    {
     "name": "stderr",
     "output_type": "stream",
     "text": [
      "C:\\Users\\ERFAN-HUDA\\AppData\\Local\\Temp\\ipykernel_12636\\1002325739.py:1: UserWarning: Parsing dates in %d/%m/%Y format when dayfirst=False (the default) was specified. Pass `dayfirst=True` or specify a format to silence this warning.\n",
      "  x_mev = pd.read_csv(Path().joinpath(model_args['BASE'], model_args['MEV_DATA']),sep=\";\",decimal=\",\", index_col=['Date'],parse_dates=[\"Date\"]).fillna(0.0)\n"
     ]
    }
   ],
   "source": [
    "x_mev = pd.read_csv(Path().joinpath(model_args['BASE'], model_args['MEV_DATA']),sep=\";\",decimal=\",\", index_col=['Date'],parse_dates=[\"Date\"]).fillna(0.0)\n",
    "x_mev.index = x_mev.index.to_period(\"M\").to_timestamp(\"M\")"
   ]
  },
  {
   "cell_type": "markdown",
   "metadata": {},
   "source": [
    "**Do Pearson-Correlation for MEV dataset and MEV dataset with each y-variable**"
   ]
  },
  {
   "cell_type": "code",
   "execution_count": 6,
   "metadata": {},
   "outputs": [],
   "source": [
    "x_corr = x_mev.corr(method=\"pearson\", numeric_only=True)\n",
    "\n",
    "corr_pairwise = ((x.name, x_mev.merge(x,left_index=True, right_index=True)) for x in odr_df)\n",
    "corr_pairwise = [(x[0],x[1].corr()) for x in corr_pairwise]"
   ]
  },
  {
   "cell_type": "markdown",
   "metadata": {},
   "source": [
    "**Make 1-pairwise x and y-variable for SFA**"
   ]
  },
  {
   "cell_type": "code",
   "execution_count": 7,
   "metadata": {},
   "outputs": [],
   "source": [
    "permutate = itertools.permutations(x_mev.columns.to_list(), r=1)\n",
    "sfa_df = [x_mev.copy()[x[0]] for x in list(permutate)]\n",
    "sfa_df = [(y.name, pd.concat([x, y.to_frame(name=\"odr_loan\")], axis=1).fillna(0.0)) for y in odr_df for x in sfa_df]"
   ]
  },
  {
   "cell_type": "markdown",
   "metadata": {},
   "source": [
    "**Make 2-pairwise x and y-variable for MFA**"
   ]
  },
  {
   "cell_type": "code",
   "execution_count": 8,
   "metadata": {},
   "outputs": [],
   "source": [
    "permutate = itertools.permutations(x_mev.columns.to_list(), r=2)\n",
    "mfa_df = [x_mev.copy()[[x[0],x[1]]] for x in list(permutate)]\n",
    "mfa_df = [(y.name, x.merge(y.to_frame(name=\"odr_loan\"),left_index=True, right_index=True).fillna(0.0)) for y in odr_df for x in mfa_df]"
   ]
  },
  {
   "cell_type": "markdown",
   "metadata": {},
   "source": [
    "**Regression Testing Load: Using Multiple Regression**"
   ]
  },
  {
   "cell_type": "code",
   "execution_count": 9,
   "metadata": {},
   "outputs": [
    {
     "data": {
      "text/plain": [
       "{'count_1pairs': 451, 'count_2pairs': 18040}"
      ]
     },
     "execution_count": 9,
     "metadata": {},
     "output_type": "execute_result"
    }
   ],
   "source": [
    "lr_sfa_pairwise = [{'model': f'{x[0]}_{i}', 'mev':x[1].drop([\"odr_loan\"], axis=1), 'odr_loan':x[1]['odr_loan']} for i, x in enumerate(sfa_df)]\n",
    "lr_mfa_pairwise = [{'model': f'{x[0]}_{i}', 'mev':x[1].drop([\"odr_loan\"], axis=1), 'odr_loan':x[1]['odr_loan']} for i, x in enumerate(mfa_df)]\n",
    "\n",
    "model_count = {'count_1pairs': len(lr_sfa_pairwise), 'count_2pairs':len(lr_mfa_pairwise)}\n",
    "model_count"
   ]
  },
  {
   "cell_type": "markdown",
   "metadata": {},
   "source": [
    "**1_Single SFA Regression**"
   ]
  },
  {
   "cell_type": "code",
   "execution_count": 10,
   "metadata": {},
   "outputs": [],
   "source": [
    "sfa_models = [{\"id\": i, \"product\": x[0], 'model': f'{\"X\".join(x[1].columns)}','min_date':x[1].index.min(),'max_date':x[1].index.max(),'y': x[1]['odr_loan'], 'x':x[1].drop(['odr_loan'], axis=1)} for i, x in enumerate(sfa_df)]\n",
    "sfa_result = []\n",
    "\n",
    "for item in sfa_models:\n",
    "    y = item['y']\n",
    "    x = item['x']\n",
    "    \n",
    "    lr = LinearRegression()\n",
    "    _run = lr.fit(x, y)\n",
    "    \n",
    "    _result = {\"id\": item['id'], \"product\": item['product'], \"start_date\": item['min_date'],\"end_date\": item['max_date'], \"x\": item['x'].columns[0], \"y\": item['y'].name}\n",
    "    _result['pearson_dep_x1'] = [t[1] for t in corr_pairwise if t[0] == item['product']][0].loc[item['product'],x.columns[0]]\n",
    "    _result['intercept'] = _run.intercept_\n",
    "    _result['coef'] = _run.coef_\n",
    "    _result['p_value'], _result['t_value'] = f_regression(x, y)\n",
    "\n",
    "    y_fitted = lr.predict(x)\n",
    "    _result['r2_score'] = r2_score(y, y_fitted)\n",
    "    _result['mape'] = mean_absolute_percentage_error(y, y_fitted)\n",
    "    _result['mae'] = mean_absolute_error(y, y_fitted)\n",
    "    _result['mse'] = mean_squared_error(y, y_fitted)\n",
    "\n",
    "    _result['treshold1'] = np.where((_result['p_value'] < 0.05) & (_result['r2_score'] > 0.6), \"Y\", \"N\")\n",
    "    _result['treshold2'] = np.where((_result['p_value'] < 0.05) & (_result['r2_score'] > 0.5), \"Y\", \"N\")\n",
    "    _result['treshold3'] = np.where((_result['p_value'] < 0.1) & (_result['r2_score'] > 0.4), \"Y\", \"N\")\n",
    "\n",
    "    item['y_fitted'] = y_fitted\n",
    "    sfa_result.append(_result)"
   ]
  },
  {
   "cell_type": "markdown",
   "metadata": {},
   "source": [
    "**2_Combination MFA Regression**"
   ]
  },
  {
   "cell_type": "code",
   "execution_count": 11,
   "metadata": {},
   "outputs": [],
   "source": [
    "mfa_models = [{\"id\": i, \"product\": x[0], 'model': f'{\"X\".join(x[1].columns)}','min_date':x[1].index.min(),'max_date':x[1].index.max(),'y': x[1]['odr_loan'], 'xs':x[1].drop(['odr_loan'], axis=1)} for i, x in enumerate(mfa_df)]\n",
    "mfa_result = []\n",
    "\n",
    "for item in mfa_models:\n",
    "    y = item['y']\n",
    "    x = item['xs']\n",
    "    \n",
    "    lr = LinearRegression()\n",
    "    _run = lr.fit(x, y)\n",
    "    \n",
    "    _result = {\"id\": item['id'], \"product\": item['product'], \"start_date\": item['min_date'],\"end_date\": item['max_date'],\"x1\": item['xs'].columns[0], \"x2\": item['xs'].columns[1], \"y\": item['y'].name}\n",
    "    _result['corr_x1_x2'] = x_corr.loc[x.columns[0],x.columns[1]]\n",
    "    _result['corr_dep_x1'] = [t[1] for t in corr_pairwise if t[0] == item['product']][0].loc[item['product'],x.columns[0]]\n",
    "    _result['corr_dep_x2'] = [t[1] for t in corr_pairwise if t[0] == item['product']][0].loc[item['product'],x.columns[1]]\n",
    "    _result['intercept'] = _run.intercept_\n",
    "    _result['coef_1'] = _run.coef_[0]\n",
    "    _result['coef_2'] = _run.coef_[1]\n",
    "\n",
    "    _f_result = f_regression(x, y)\n",
    "    _result['p_value_1'] = _f_result[0][0]\n",
    "    _result['p_value_2'] = _f_result[0][1]\n",
    "    _result['t_value_1'] = _f_result[1][0]\n",
    "    _result['t_value_2'] = _f_result[1][1]\n",
    "\n",
    "    y_fitted = lr.predict(x)\n",
    "    _result['r2_score'] = r2_score(y, y_fitted)\n",
    "    _result['mape'] = mean_absolute_percentage_error(y, y_fitted)\n",
    "    _result['mae'] = mean_absolute_error(y, y_fitted)\n",
    "    _result['mse'] = mean_squared_error(y, y_fitted)\n",
    "\n",
    "    _result['treshold_1'] = np.where((_result['p_value_1'] < 0.05) & (_result['p_value_2'] < 0.05) & (_result['r2_score'] > 0.6), \"Y\", \"N\")\n",
    "    _result['treshold_2'] = np.where((_result['p_value_1'] < 0.05) & (_result['p_value_2'] < 0.05) & (_result['r2_score'] > 0.5), \"Y\", \"N\")\n",
    "    _result['treshold_3'] = np.where((_result['p_value_1'] < 0.1) & (_result['p_value_2'] < 0.1) & (_result['r2_score'] > 0.4), \"Y\", \"N\")\n",
    "\n",
    "    item['y_fitted'] = y_fitted\n",
    "    mfa_result.append(_result)"
   ]
  },
  {
   "cell_type": "markdown",
   "metadata": {},
   "source": [
    "**Save to file: <br>1. pearson-correlation mev <br>2. pearson-correlation odr_pairwise <br>3. SFA Result <br>4. MFA Result <br>5. Model Variables**"
   ]
  },
  {
   "cell_type": "code",
   "execution_count": 13,
   "metadata": {},
   "outputs": [
    {
     "name": "stderr",
     "output_type": "stream",
     "text": [
      "d:\\Dev\\Seabank\\machine_learning\\Lib\\site-packages\\pandas\\core\\arraylike.py:399: RuntimeWarning: invalid value encountered in log\n",
      "  result = getattr(ufunc, method)(*inputs, **kwargs)\n"
     ]
    },
    {
     "ename": "MissingDataError",
     "evalue": "exog contains inf or nans",
     "output_type": "error",
     "traceback": [
      "\u001b[1;31m---------------------------------------------------------------------------\u001b[0m",
      "\u001b[1;31mMissingDataError\u001b[0m                          Traceback (most recent call last)",
      "Cell \u001b[1;32mIn[13], line 36\u001b[0m\n\u001b[0;32m     34\u001b[0m diff_1M \u001b[38;5;241m=\u001b[39m {\u001b[38;5;124m'\u001b[39m\u001b[38;5;124mproduct\u001b[39m\u001b[38;5;124m'\u001b[39m: item\u001b[38;5;241m.\u001b[39mname,\u001b[38;5;124m'\u001b[39m\u001b[38;5;124mtransform\u001b[39m\u001b[38;5;124m'\u001b[39m:\u001b[38;5;124m'\u001b[39m\u001b[38;5;124mdiff_1M\u001b[39m\u001b[38;5;124m'\u001b[39m,\u001b[38;5;124m'\u001b[39m\u001b[38;5;124mADF Statistic\u001b[39m\u001b[38;5;124m'\u001b[39m: adfuller((item\u001b[38;5;241m.\u001b[39mfillna(\u001b[38;5;241m0.0\u001b[39m))\u001b[38;5;241m.\u001b[39mdiff()[\u001b[38;5;241m1\u001b[39m:])[\u001b[38;5;241m0\u001b[39m], \u001b[38;5;124m'\u001b[39m\u001b[38;5;124mp_value\u001b[39m\u001b[38;5;124m'\u001b[39m: adfuller((item\u001b[38;5;241m.\u001b[39mfillna(\u001b[38;5;241m0.0\u001b[39m))\u001b[38;5;241m.\u001b[39mdiff()[\u001b[38;5;241m1\u001b[39m:])[\u001b[38;5;241m1\u001b[39m]}\n\u001b[0;32m     35\u001b[0m moving_average_1M \u001b[38;5;241m=\u001b[39m {\u001b[38;5;124m'\u001b[39m\u001b[38;5;124mproduct\u001b[39m\u001b[38;5;124m'\u001b[39m: item\u001b[38;5;241m.\u001b[39mname,\u001b[38;5;124m'\u001b[39m\u001b[38;5;124mtransform\u001b[39m\u001b[38;5;124m'\u001b[39m:\u001b[38;5;124m'\u001b[39m\u001b[38;5;124mmoving_average_1M\u001b[39m\u001b[38;5;124m'\u001b[39m,\u001b[38;5;124m'\u001b[39m\u001b[38;5;124mADF Statistic\u001b[39m\u001b[38;5;124m'\u001b[39m: adfuller(item\u001b[38;5;241m.\u001b[39mfillna(\u001b[38;5;241m0.0\u001b[39m)\u001b[38;5;241m.\u001b[39mrolling(window\u001b[38;5;241m=\u001b[39m\u001b[38;5;241m1\u001b[39m)\u001b[38;5;241m.\u001b[39mmean())[\u001b[38;5;241m0\u001b[39m], \u001b[38;5;124m'\u001b[39m\u001b[38;5;124mp_value\u001b[39m\u001b[38;5;124m'\u001b[39m: adfuller(item\u001b[38;5;241m.\u001b[39mfillna(\u001b[38;5;241m0.0\u001b[39m)\u001b[38;5;241m.\u001b[39mrolling(window\u001b[38;5;241m=\u001b[39m\u001b[38;5;241m1\u001b[39m)\u001b[38;5;241m.\u001b[39mmean())[\u001b[38;5;241m1\u001b[39m]}\n\u001b[1;32m---> 36\u001b[0m log_n \u001b[38;5;241m=\u001b[39m {\u001b[38;5;124m'\u001b[39m\u001b[38;5;124mproduct\u001b[39m\u001b[38;5;124m'\u001b[39m: item\u001b[38;5;241m.\u001b[39mname,\u001b[38;5;124m'\u001b[39m\u001b[38;5;124mname\u001b[39m\u001b[38;5;124m'\u001b[39m:\u001b[38;5;124m'\u001b[39m\u001b[38;5;124mlog_n\u001b[39m\u001b[38;5;124m'\u001b[39m,\u001b[38;5;124m'\u001b[39m\u001b[38;5;124mADF Statistic\u001b[39m\u001b[38;5;124m'\u001b[39m: \u001b[43madfuller\u001b[49m\u001b[43m(\u001b[49m\u001b[43mnp\u001b[49m\u001b[38;5;241;43m.\u001b[39;49m\u001b[43mlog\u001b[49m\u001b[43m(\u001b[49m\u001b[43mitem\u001b[49m\u001b[38;5;241;43m.\u001b[39;49m\u001b[43mdropna\u001b[49m\u001b[43m(\u001b[49m\u001b[43m)\u001b[49m\u001b[43m)\u001b[49m\u001b[43m)\u001b[49m[\u001b[38;5;241m0\u001b[39m], \u001b[38;5;124m'\u001b[39m\u001b[38;5;124mp_value\u001b[39m\u001b[38;5;124m'\u001b[39m: adfuller(np\u001b[38;5;241m.\u001b[39mlog(item\u001b[38;5;241m.\u001b[39mdropna()))[\u001b[38;5;241m1\u001b[39m]}\n\u001b[0;32m     38\u001b[0m y_statistic\u001b[38;5;241m.\u001b[39mappend(normal)\n\u001b[0;32m     39\u001b[0m y_statistic\u001b[38;5;241m.\u001b[39mappend(z_score)\n",
      "File \u001b[1;32md:\\Dev\\Seabank\\machine_learning\\Lib\\site-packages\\statsmodels\\tsa\\stattools.py:326\u001b[0m, in \u001b[0;36madfuller\u001b[1;34m(x, maxlag, regression, autolag, store, regresults)\u001b[0m\n\u001b[0;32m    320\u001b[0m \u001b[38;5;66;03m# 1 for level\u001b[39;00m\n\u001b[0;32m    321\u001b[0m \u001b[38;5;66;03m# search for lag length with smallest information criteria\u001b[39;00m\n\u001b[0;32m    322\u001b[0m \u001b[38;5;66;03m# Note: use the same number of observations to have comparable IC\u001b[39;00m\n\u001b[0;32m    323\u001b[0m \u001b[38;5;66;03m# aic and bic: smaller is better\u001b[39;00m\n\u001b[0;32m    325\u001b[0m \u001b[38;5;28;01mif\u001b[39;00m \u001b[38;5;129;01mnot\u001b[39;00m regresults:\n\u001b[1;32m--> 326\u001b[0m     icbest, bestlag \u001b[38;5;241m=\u001b[39m \u001b[43m_autolag\u001b[49m\u001b[43m(\u001b[49m\n\u001b[0;32m    327\u001b[0m \u001b[43m        \u001b[49m\u001b[43mOLS\u001b[49m\u001b[43m,\u001b[49m\u001b[43m \u001b[49m\u001b[43mxdshort\u001b[49m\u001b[43m,\u001b[49m\u001b[43m \u001b[49m\u001b[43mfullRHS\u001b[49m\u001b[43m,\u001b[49m\u001b[43m \u001b[49m\u001b[43mstartlag\u001b[49m\u001b[43m,\u001b[49m\u001b[43m \u001b[49m\u001b[43mmaxlag\u001b[49m\u001b[43m,\u001b[49m\u001b[43m \u001b[49m\u001b[43mautolag\u001b[49m\n\u001b[0;32m    328\u001b[0m \u001b[43m    \u001b[49m\u001b[43m)\u001b[49m\n\u001b[0;32m    329\u001b[0m \u001b[38;5;28;01melse\u001b[39;00m:\n\u001b[0;32m    330\u001b[0m     icbest, bestlag, alres \u001b[38;5;241m=\u001b[39m _autolag(\n\u001b[0;32m    331\u001b[0m         OLS,\n\u001b[0;32m    332\u001b[0m         xdshort,\n\u001b[1;32m   (...)\u001b[0m\n\u001b[0;32m    337\u001b[0m         regresults\u001b[38;5;241m=\u001b[39mregresults,\n\u001b[0;32m    338\u001b[0m     )\n",
      "File \u001b[1;32md:\\Dev\\Seabank\\machine_learning\\Lib\\site-packages\\statsmodels\\tsa\\stattools.py:132\u001b[0m, in \u001b[0;36m_autolag\u001b[1;34m(mod, endog, exog, startlag, maxlag, method, modargs, fitargs, regresults)\u001b[0m\n\u001b[0;32m    130\u001b[0m method \u001b[38;5;241m=\u001b[39m method\u001b[38;5;241m.\u001b[39mlower()\n\u001b[0;32m    131\u001b[0m \u001b[38;5;28;01mfor\u001b[39;00m lag \u001b[38;5;129;01min\u001b[39;00m \u001b[38;5;28mrange\u001b[39m(startlag, startlag \u001b[38;5;241m+\u001b[39m maxlag \u001b[38;5;241m+\u001b[39m \u001b[38;5;241m1\u001b[39m):\n\u001b[1;32m--> 132\u001b[0m     mod_instance \u001b[38;5;241m=\u001b[39m \u001b[43mmod\u001b[49m\u001b[43m(\u001b[49m\u001b[43mendog\u001b[49m\u001b[43m,\u001b[49m\u001b[43m \u001b[49m\u001b[43mexog\u001b[49m\u001b[43m[\u001b[49m\u001b[43m:\u001b[49m\u001b[43m,\u001b[49m\u001b[43m \u001b[49m\u001b[43m:\u001b[49m\u001b[43mlag\u001b[49m\u001b[43m]\u001b[49m\u001b[43m,\u001b[49m\u001b[43m \u001b[49m\u001b[38;5;241;43m*\u001b[39;49m\u001b[43mmodargs\u001b[49m\u001b[43m)\u001b[49m\n\u001b[0;32m    133\u001b[0m     results[lag] \u001b[38;5;241m=\u001b[39m mod_instance\u001b[38;5;241m.\u001b[39mfit()\n\u001b[0;32m    135\u001b[0m \u001b[38;5;28;01mif\u001b[39;00m method \u001b[38;5;241m==\u001b[39m \u001b[38;5;124m\"\u001b[39m\u001b[38;5;124maic\u001b[39m\u001b[38;5;124m\"\u001b[39m:\n",
      "File \u001b[1;32md:\\Dev\\Seabank\\machine_learning\\Lib\\site-packages\\statsmodels\\regression\\linear_model.py:924\u001b[0m, in \u001b[0;36mOLS.__init__\u001b[1;34m(self, endog, exog, missing, hasconst, **kwargs)\u001b[0m\n\u001b[0;32m    921\u001b[0m     msg \u001b[38;5;241m=\u001b[39m (\u001b[38;5;124m\"\u001b[39m\u001b[38;5;124mWeights are not supported in OLS and will be ignored\u001b[39m\u001b[38;5;124m\"\u001b[39m\n\u001b[0;32m    922\u001b[0m            \u001b[38;5;124m\"\u001b[39m\u001b[38;5;124mAn exception will be raised in the next version.\u001b[39m\u001b[38;5;124m\"\u001b[39m)\n\u001b[0;32m    923\u001b[0m     warnings\u001b[38;5;241m.\u001b[39mwarn(msg, ValueWarning)\n\u001b[1;32m--> 924\u001b[0m \u001b[38;5;28;43msuper\u001b[39;49m\u001b[43m(\u001b[49m\u001b[43m)\u001b[49m\u001b[38;5;241;43m.\u001b[39;49m\u001b[38;5;21;43m__init__\u001b[39;49m\u001b[43m(\u001b[49m\u001b[43mendog\u001b[49m\u001b[43m,\u001b[49m\u001b[43m \u001b[49m\u001b[43mexog\u001b[49m\u001b[43m,\u001b[49m\u001b[43m \u001b[49m\u001b[43mmissing\u001b[49m\u001b[38;5;241;43m=\u001b[39;49m\u001b[43mmissing\u001b[49m\u001b[43m,\u001b[49m\n\u001b[0;32m    925\u001b[0m \u001b[43m                          \u001b[49m\u001b[43mhasconst\u001b[49m\u001b[38;5;241;43m=\u001b[39;49m\u001b[43mhasconst\u001b[49m\u001b[43m,\u001b[49m\u001b[43m \u001b[49m\u001b[38;5;241;43m*\u001b[39;49m\u001b[38;5;241;43m*\u001b[39;49m\u001b[43mkwargs\u001b[49m\u001b[43m)\u001b[49m\n\u001b[0;32m    926\u001b[0m \u001b[38;5;28;01mif\u001b[39;00m \u001b[38;5;124m\"\u001b[39m\u001b[38;5;124mweights\u001b[39m\u001b[38;5;124m\"\u001b[39m \u001b[38;5;129;01min\u001b[39;00m \u001b[38;5;28mself\u001b[39m\u001b[38;5;241m.\u001b[39m_init_keys:\n\u001b[0;32m    927\u001b[0m     \u001b[38;5;28mself\u001b[39m\u001b[38;5;241m.\u001b[39m_init_keys\u001b[38;5;241m.\u001b[39mremove(\u001b[38;5;124m\"\u001b[39m\u001b[38;5;124mweights\u001b[39m\u001b[38;5;124m\"\u001b[39m)\n",
      "File \u001b[1;32md:\\Dev\\Seabank\\machine_learning\\Lib\\site-packages\\statsmodels\\regression\\linear_model.py:749\u001b[0m, in \u001b[0;36mWLS.__init__\u001b[1;34m(self, endog, exog, weights, missing, hasconst, **kwargs)\u001b[0m\n\u001b[0;32m    747\u001b[0m \u001b[38;5;28;01melse\u001b[39;00m:\n\u001b[0;32m    748\u001b[0m     weights \u001b[38;5;241m=\u001b[39m weights\u001b[38;5;241m.\u001b[39msqueeze()\n\u001b[1;32m--> 749\u001b[0m \u001b[38;5;28;43msuper\u001b[39;49m\u001b[43m(\u001b[49m\u001b[43m)\u001b[49m\u001b[38;5;241;43m.\u001b[39;49m\u001b[38;5;21;43m__init__\u001b[39;49m\u001b[43m(\u001b[49m\u001b[43mendog\u001b[49m\u001b[43m,\u001b[49m\u001b[43m \u001b[49m\u001b[43mexog\u001b[49m\u001b[43m,\u001b[49m\u001b[43m \u001b[49m\u001b[43mmissing\u001b[49m\u001b[38;5;241;43m=\u001b[39;49m\u001b[43mmissing\u001b[49m\u001b[43m,\u001b[49m\n\u001b[0;32m    750\u001b[0m \u001b[43m                          \u001b[49m\u001b[43mweights\u001b[49m\u001b[38;5;241;43m=\u001b[39;49m\u001b[43mweights\u001b[49m\u001b[43m,\u001b[49m\u001b[43m \u001b[49m\u001b[43mhasconst\u001b[49m\u001b[38;5;241;43m=\u001b[39;49m\u001b[43mhasconst\u001b[49m\u001b[43m,\u001b[49m\u001b[43m \u001b[49m\u001b[38;5;241;43m*\u001b[39;49m\u001b[38;5;241;43m*\u001b[39;49m\u001b[43mkwargs\u001b[49m\u001b[43m)\u001b[49m\n\u001b[0;32m    751\u001b[0m nobs \u001b[38;5;241m=\u001b[39m \u001b[38;5;28mself\u001b[39m\u001b[38;5;241m.\u001b[39mexog\u001b[38;5;241m.\u001b[39mshape[\u001b[38;5;241m0\u001b[39m]\n\u001b[0;32m    752\u001b[0m weights \u001b[38;5;241m=\u001b[39m \u001b[38;5;28mself\u001b[39m\u001b[38;5;241m.\u001b[39mweights\n",
      "File \u001b[1;32md:\\Dev\\Seabank\\machine_learning\\Lib\\site-packages\\statsmodels\\regression\\linear_model.py:203\u001b[0m, in \u001b[0;36mRegressionModel.__init__\u001b[1;34m(self, endog, exog, **kwargs)\u001b[0m\n\u001b[0;32m    202\u001b[0m \u001b[38;5;28;01mdef\u001b[39;00m \u001b[38;5;21m__init__\u001b[39m(\u001b[38;5;28mself\u001b[39m, endog, exog, \u001b[38;5;241m*\u001b[39m\u001b[38;5;241m*\u001b[39mkwargs):\n\u001b[1;32m--> 203\u001b[0m     \u001b[38;5;28;43msuper\u001b[39;49m\u001b[43m(\u001b[49m\u001b[43m)\u001b[49m\u001b[38;5;241;43m.\u001b[39;49m\u001b[38;5;21;43m__init__\u001b[39;49m\u001b[43m(\u001b[49m\u001b[43mendog\u001b[49m\u001b[43m,\u001b[49m\u001b[43m \u001b[49m\u001b[43mexog\u001b[49m\u001b[43m,\u001b[49m\u001b[43m \u001b[49m\u001b[38;5;241;43m*\u001b[39;49m\u001b[38;5;241;43m*\u001b[39;49m\u001b[43mkwargs\u001b[49m\u001b[43m)\u001b[49m\n\u001b[0;32m    204\u001b[0m     \u001b[38;5;28mself\u001b[39m\u001b[38;5;241m.\u001b[39mpinv_wexog: Float64Array \u001b[38;5;241m|\u001b[39m \u001b[38;5;28;01mNone\u001b[39;00m \u001b[38;5;241m=\u001b[39m \u001b[38;5;28;01mNone\u001b[39;00m\n\u001b[0;32m    205\u001b[0m     \u001b[38;5;28mself\u001b[39m\u001b[38;5;241m.\u001b[39m_data_attr\u001b[38;5;241m.\u001b[39mextend([\u001b[38;5;124m'\u001b[39m\u001b[38;5;124mpinv_wexog\u001b[39m\u001b[38;5;124m'\u001b[39m, \u001b[38;5;124m'\u001b[39m\u001b[38;5;124mwendog\u001b[39m\u001b[38;5;124m'\u001b[39m, \u001b[38;5;124m'\u001b[39m\u001b[38;5;124mwexog\u001b[39m\u001b[38;5;124m'\u001b[39m, \u001b[38;5;124m'\u001b[39m\u001b[38;5;124mweights\u001b[39m\u001b[38;5;124m'\u001b[39m])\n",
      "File \u001b[1;32md:\\Dev\\Seabank\\machine_learning\\Lib\\site-packages\\statsmodels\\base\\model.py:270\u001b[0m, in \u001b[0;36mLikelihoodModel.__init__\u001b[1;34m(self, endog, exog, **kwargs)\u001b[0m\n\u001b[0;32m    269\u001b[0m \u001b[38;5;28;01mdef\u001b[39;00m \u001b[38;5;21m__init__\u001b[39m(\u001b[38;5;28mself\u001b[39m, endog, exog\u001b[38;5;241m=\u001b[39m\u001b[38;5;28;01mNone\u001b[39;00m, \u001b[38;5;241m*\u001b[39m\u001b[38;5;241m*\u001b[39mkwargs):\n\u001b[1;32m--> 270\u001b[0m     \u001b[38;5;28;43msuper\u001b[39;49m\u001b[43m(\u001b[49m\u001b[43m)\u001b[49m\u001b[38;5;241;43m.\u001b[39;49m\u001b[38;5;21;43m__init__\u001b[39;49m\u001b[43m(\u001b[49m\u001b[43mendog\u001b[49m\u001b[43m,\u001b[49m\u001b[43m \u001b[49m\u001b[43mexog\u001b[49m\u001b[43m,\u001b[49m\u001b[43m \u001b[49m\u001b[38;5;241;43m*\u001b[39;49m\u001b[38;5;241;43m*\u001b[39;49m\u001b[43mkwargs\u001b[49m\u001b[43m)\u001b[49m\n\u001b[0;32m    271\u001b[0m     \u001b[38;5;28mself\u001b[39m\u001b[38;5;241m.\u001b[39minitialize()\n",
      "File \u001b[1;32md:\\Dev\\Seabank\\machine_learning\\Lib\\site-packages\\statsmodels\\base\\model.py:95\u001b[0m, in \u001b[0;36mModel.__init__\u001b[1;34m(self, endog, exog, **kwargs)\u001b[0m\n\u001b[0;32m     93\u001b[0m missing \u001b[38;5;241m=\u001b[39m kwargs\u001b[38;5;241m.\u001b[39mpop(\u001b[38;5;124m'\u001b[39m\u001b[38;5;124mmissing\u001b[39m\u001b[38;5;124m'\u001b[39m, \u001b[38;5;124m'\u001b[39m\u001b[38;5;124mnone\u001b[39m\u001b[38;5;124m'\u001b[39m)\n\u001b[0;32m     94\u001b[0m hasconst \u001b[38;5;241m=\u001b[39m kwargs\u001b[38;5;241m.\u001b[39mpop(\u001b[38;5;124m'\u001b[39m\u001b[38;5;124mhasconst\u001b[39m\u001b[38;5;124m'\u001b[39m, \u001b[38;5;28;01mNone\u001b[39;00m)\n\u001b[1;32m---> 95\u001b[0m \u001b[38;5;28mself\u001b[39m\u001b[38;5;241m.\u001b[39mdata \u001b[38;5;241m=\u001b[39m \u001b[38;5;28;43mself\u001b[39;49m\u001b[38;5;241;43m.\u001b[39;49m\u001b[43m_handle_data\u001b[49m\u001b[43m(\u001b[49m\u001b[43mendog\u001b[49m\u001b[43m,\u001b[49m\u001b[43m \u001b[49m\u001b[43mexog\u001b[49m\u001b[43m,\u001b[49m\u001b[43m \u001b[49m\u001b[43mmissing\u001b[49m\u001b[43m,\u001b[49m\u001b[43m \u001b[49m\u001b[43mhasconst\u001b[49m\u001b[43m,\u001b[49m\n\u001b[0;32m     96\u001b[0m \u001b[43m                              \u001b[49m\u001b[38;5;241;43m*\u001b[39;49m\u001b[38;5;241;43m*\u001b[39;49m\u001b[43mkwargs\u001b[49m\u001b[43m)\u001b[49m\n\u001b[0;32m     97\u001b[0m \u001b[38;5;28mself\u001b[39m\u001b[38;5;241m.\u001b[39mk_constant \u001b[38;5;241m=\u001b[39m \u001b[38;5;28mself\u001b[39m\u001b[38;5;241m.\u001b[39mdata\u001b[38;5;241m.\u001b[39mk_constant\n\u001b[0;32m     98\u001b[0m \u001b[38;5;28mself\u001b[39m\u001b[38;5;241m.\u001b[39mexog \u001b[38;5;241m=\u001b[39m \u001b[38;5;28mself\u001b[39m\u001b[38;5;241m.\u001b[39mdata\u001b[38;5;241m.\u001b[39mexog\n",
      "File \u001b[1;32md:\\Dev\\Seabank\\machine_learning\\Lib\\site-packages\\statsmodels\\base\\model.py:135\u001b[0m, in \u001b[0;36mModel._handle_data\u001b[1;34m(self, endog, exog, missing, hasconst, **kwargs)\u001b[0m\n\u001b[0;32m    134\u001b[0m \u001b[38;5;28;01mdef\u001b[39;00m \u001b[38;5;21m_handle_data\u001b[39m(\u001b[38;5;28mself\u001b[39m, endog, exog, missing, hasconst, \u001b[38;5;241m*\u001b[39m\u001b[38;5;241m*\u001b[39mkwargs):\n\u001b[1;32m--> 135\u001b[0m     data \u001b[38;5;241m=\u001b[39m \u001b[43mhandle_data\u001b[49m\u001b[43m(\u001b[49m\u001b[43mendog\u001b[49m\u001b[43m,\u001b[49m\u001b[43m \u001b[49m\u001b[43mexog\u001b[49m\u001b[43m,\u001b[49m\u001b[43m \u001b[49m\u001b[43mmissing\u001b[49m\u001b[43m,\u001b[49m\u001b[43m \u001b[49m\u001b[43mhasconst\u001b[49m\u001b[43m,\u001b[49m\u001b[43m \u001b[49m\u001b[38;5;241;43m*\u001b[39;49m\u001b[38;5;241;43m*\u001b[39;49m\u001b[43mkwargs\u001b[49m\u001b[43m)\u001b[49m\n\u001b[0;32m    136\u001b[0m     \u001b[38;5;66;03m# kwargs arrays could have changed, easier to just attach here\u001b[39;00m\n\u001b[0;32m    137\u001b[0m     \u001b[38;5;28;01mfor\u001b[39;00m key \u001b[38;5;129;01min\u001b[39;00m kwargs:\n",
      "File \u001b[1;32md:\\Dev\\Seabank\\machine_learning\\Lib\\site-packages\\statsmodels\\base\\data.py:675\u001b[0m, in \u001b[0;36mhandle_data\u001b[1;34m(endog, exog, missing, hasconst, **kwargs)\u001b[0m\n\u001b[0;32m    672\u001b[0m     exog \u001b[38;5;241m=\u001b[39m np\u001b[38;5;241m.\u001b[39masarray(exog)\n\u001b[0;32m    674\u001b[0m klass \u001b[38;5;241m=\u001b[39m handle_data_class_factory(endog, exog)\n\u001b[1;32m--> 675\u001b[0m \u001b[38;5;28;01mreturn\u001b[39;00m \u001b[43mklass\u001b[49m\u001b[43m(\u001b[49m\u001b[43mendog\u001b[49m\u001b[43m,\u001b[49m\u001b[43m \u001b[49m\u001b[43mexog\u001b[49m\u001b[38;5;241;43m=\u001b[39;49m\u001b[43mexog\u001b[49m\u001b[43m,\u001b[49m\u001b[43m \u001b[49m\u001b[43mmissing\u001b[49m\u001b[38;5;241;43m=\u001b[39;49m\u001b[43mmissing\u001b[49m\u001b[43m,\u001b[49m\u001b[43m \u001b[49m\u001b[43mhasconst\u001b[49m\u001b[38;5;241;43m=\u001b[39;49m\u001b[43mhasconst\u001b[49m\u001b[43m,\u001b[49m\n\u001b[0;32m    676\u001b[0m \u001b[43m             \u001b[49m\u001b[38;5;241;43m*\u001b[39;49m\u001b[38;5;241;43m*\u001b[39;49m\u001b[43mkwargs\u001b[49m\u001b[43m)\u001b[49m\n",
      "File \u001b[1;32md:\\Dev\\Seabank\\machine_learning\\Lib\\site-packages\\statsmodels\\base\\data.py:88\u001b[0m, in \u001b[0;36mModelData.__init__\u001b[1;34m(self, endog, exog, missing, hasconst, **kwargs)\u001b[0m\n\u001b[0;32m     86\u001b[0m \u001b[38;5;28mself\u001b[39m\u001b[38;5;241m.\u001b[39mconst_idx \u001b[38;5;241m=\u001b[39m \u001b[38;5;28;01mNone\u001b[39;00m\n\u001b[0;32m     87\u001b[0m \u001b[38;5;28mself\u001b[39m\u001b[38;5;241m.\u001b[39mk_constant \u001b[38;5;241m=\u001b[39m \u001b[38;5;241m0\u001b[39m\n\u001b[1;32m---> 88\u001b[0m \u001b[38;5;28;43mself\u001b[39;49m\u001b[38;5;241;43m.\u001b[39;49m\u001b[43m_handle_constant\u001b[49m\u001b[43m(\u001b[49m\u001b[43mhasconst\u001b[49m\u001b[43m)\u001b[49m\n\u001b[0;32m     89\u001b[0m \u001b[38;5;28mself\u001b[39m\u001b[38;5;241m.\u001b[39m_check_integrity()\n\u001b[0;32m     90\u001b[0m \u001b[38;5;28mself\u001b[39m\u001b[38;5;241m.\u001b[39m_cache \u001b[38;5;241m=\u001b[39m {}\n",
      "File \u001b[1;32md:\\Dev\\Seabank\\machine_learning\\Lib\\site-packages\\statsmodels\\base\\data.py:134\u001b[0m, in \u001b[0;36mModelData._handle_constant\u001b[1;34m(self, hasconst)\u001b[0m\n\u001b[0;32m    132\u001b[0m exog_max \u001b[38;5;241m=\u001b[39m np\u001b[38;5;241m.\u001b[39mmax(\u001b[38;5;28mself\u001b[39m\u001b[38;5;241m.\u001b[39mexog, axis\u001b[38;5;241m=\u001b[39m\u001b[38;5;241m0\u001b[39m)\n\u001b[0;32m    133\u001b[0m \u001b[38;5;28;01mif\u001b[39;00m \u001b[38;5;129;01mnot\u001b[39;00m np\u001b[38;5;241m.\u001b[39misfinite(exog_max)\u001b[38;5;241m.\u001b[39mall():\n\u001b[1;32m--> 134\u001b[0m     \u001b[38;5;28;01mraise\u001b[39;00m MissingDataError(\u001b[38;5;124m'\u001b[39m\u001b[38;5;124mexog contains inf or nans\u001b[39m\u001b[38;5;124m'\u001b[39m)\n\u001b[0;32m    135\u001b[0m exog_min \u001b[38;5;241m=\u001b[39m np\u001b[38;5;241m.\u001b[39mmin(\u001b[38;5;28mself\u001b[39m\u001b[38;5;241m.\u001b[39mexog, axis\u001b[38;5;241m=\u001b[39m\u001b[38;5;241m0\u001b[39m)\n\u001b[0;32m    136\u001b[0m const_idx \u001b[38;5;241m=\u001b[39m np\u001b[38;5;241m.\u001b[39mwhere(exog_max \u001b[38;5;241m==\u001b[39m exog_min)[\u001b[38;5;241m0\u001b[39m]\u001b[38;5;241m.\u001b[39msqueeze()\n",
      "\u001b[1;31mMissingDataError\u001b[0m: exog contains inf or nans"
     ]
    }
   ],
   "source": [
    "sfa_result = pd.DataFrame(sfa_result)\n",
    "mfa_result = pd.DataFrame(mfa_result)\n",
    "\n",
    "y_odr.to_excel(Path().joinpath(model_args[\"OUTPUT\"], \"_\".join([model_args['USE_ODR'], model_args['suffix'],\"variable_list.xlsx\"])), sheet_name=\"odr\")\n",
    "\n",
    "with pd.ExcelWriter(Path().joinpath(model_args[\"OUTPUT\"], \"_\".join([model_args['USE_ODR'], model_args['suffix'],\"variable_list.xlsx\"])),mode=\"a\") as w:\n",
    "    x_mev.to_excel(w, sheet_name='mev')\n",
    "    \n",
    "x_corr.to_excel(Path().joinpath(model_args[\"OUTPUT\"], \"_\".join([model_args['USE_ODR'], model_args['suffix'],\"pearson_corr.xlsx\"])), sheet_name=\"MEV\")\n",
    "sfa_result.to_excel(Path().joinpath(model_args[\"OUTPUT\"], \"_\".join([model_args['USE_ODR'], model_args['suffix'],\"sfa_result.xlsx\"])), sheet_name=\"SFA_Result\")\n",
    "mfa_result.to_excel(Path().joinpath(model_args[\"OUTPUT\"], \"_\".join([model_args['USE_ODR'], model_args['suffix'],\"mfa_result.xlsx\"])), sheet_name=\"MFA_Result\")\n",
    "\n",
    "with pd.ExcelWriter(Path().joinpath(model_args[\"OUTPUT\"], \"_\".join([model_args['USE_ODR'], model_args['suffix'],\"pearson_corr.xlsx\"])),mode=\"a\") as w:\n",
    "    for i, item in enumerate(corr_pairwise):\n",
    "        model, data = item[0], item[1]\n",
    "        data.to_excel(w, sheet_name=f'{i}_{model}')\n",
    "\n",
    "check_result = []\n",
    "for item in mfa_models:\n",
    "    check = {'id': item['id'], 'product': item['product'], 'model': item['model'],'len_xs': len(item['xs']), 'len_y': len(item['y'])}\n",
    "    check_result.append(check)\n",
    "\n",
    "check_result = pd.DataFrame(check_result)\n",
    "with pd.ExcelWriter(Path().joinpath(model_args[\"OUTPUT\"], \"_\".join([model_args['USE_ODR'], model_args['suffix'],\"variable_list.xlsx\"])),mode=\"a\") as w:\n",
    "    check_result.to_excel(w, sheet_name='model_variable_check')\n",
    "\n",
    "\n",
    "\"\"\"Stationary Check\"\"\"\n",
    "y_statistic = []\n",
    "\n",
    "for item in odr_df:\n",
    "    normal = {'product': item.name,'transform':'normal','ADF Statistic': adfuller(item)[0], 'p_value': adfuller(item)[1]}\n",
    "    z_score = {'product': item.name,'transform':'z_score','ADF Statistic': adfuller((item.fillna(0.0) - item.fillna(0.0).mean()) / item.fillna(0.0).std(ddof=0))[0], 'p_value': adfuller((item.fillna(0.0) - item.fillna(0.0).mean()) / item.fillna(0.0).std(ddof=0))[1]}\n",
    "    diff_1M = {'product': item.name,'transform':'diff_1M','ADF Statistic': adfuller((item.fillna(0.0)).diff()[1:])[0], 'p_value': adfuller((item.fillna(0.0)).diff()[1:])[1]}\n",
    "    moving_average_1M = {'product': item.name,'transform':'moving_average_1M','ADF Statistic': adfuller(item.fillna(0.0).rolling(window=1).mean())[0], 'p_value': adfuller(item.fillna(0.0).rolling(window=1).mean())[1]}\n",
    "    # log_n = {'product': item.name,'name':'log_n','ADF Statistic': adfuller(np.log(item.dropna()))[0], 'p_value': adfuller(np.log(item.dropna()))[1]}\n",
    "    \n",
    "    y_statistic.append(normal)\n",
    "    y_statistic.append(z_score)\n",
    "    y_statistic.append(diff_1M)\n",
    "    y_statistic.append(moving_average_1M)\n",
    "    # y_statistic.append(log_n)\n",
    "\n",
    "with pd.ExcelWriter(Path().joinpath(model_args[\"OUTPUT\"], \"_\".join([model_args['USE_ODR'], model_args['suffix'],\"variable_list.xlsx\"])),mode=\"a\") as w:\n",
    "    pd.DataFrame(y_statistic).to_excel(w, sheet_name='stationary_check')\n",
    "\n",
    "t_end = time.time()\n",
    "print(\"Script finished on: \", t_end - t_start)"
   ]
  }
 ],
 "metadata": {
  "kernelspec": {
   "display_name": "machine_learning",
   "language": "python",
   "name": "python3"
  },
  "language_info": {
   "codemirror_mode": {
    "name": "ipython",
    "version": 3
   },
   "file_extension": ".py",
   "mimetype": "text/x-python",
   "name": "python",
   "nbconvert_exporter": "python",
   "pygments_lexer": "ipython3",
   "version": "3.11.7"
  }
 },
 "nbformat": 4,
 "nbformat_minor": 2
}
