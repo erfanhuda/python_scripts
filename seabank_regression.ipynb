{
 "cells": [
  {
   "cell_type": "markdown",
   "metadata": {},
   "source": [
    "_Import library: pandas, numpy, scipy, sklearn, itertools, statsmodels_"
   ]
  },
  {
   "cell_type": "code",
   "execution_count": null,
   "metadata": {},
   "outputs": [],
   "source": [
    "from pathlib import Path\n",
    "import pandas as pd\n",
    "import numpy as np\n",
    "from sklearn.linear_model import LinearRegression\n",
    "import itertools\n",
    "from openpyxl import Workbook"
   ]
  },
  {
   "cell_type": "markdown",
   "metadata": {},
   "source": [
    "**Read data from CSV**"
   ]
  },
  {
   "cell_type": "code",
   "execution_count": null,
   "metadata": {},
   "outputs": [],
   "source": [
    "model_args = {\n",
    "    'BASE' : \"D:\\\\Dev\\\\Seabank\\\\python_scripts\\\\file\\\\input\\\\model_Q124\"\n",
    "    ,'OUTPUT' : \"D:\\\\Dev\\\\Seabank\\\\python_scripts\\\\file\\\\input\\\\model_Q124\\\\output\"\n",
    "    ,'MEV_DATA' : \"seabank_data.csv\"\n",
    "    ,'ODR_MOM' : \"pd_odr_mom.csv\"\n",
    "    ,'ODR_QOQ' : \"pd_odr_qoq.csv\"\n",
    "    ,'ODR_HOH' : \"pd_odr_hoh.csv\"\n",
    "    ,'ODR_YOY' : \"pd_odr_yoy.csv\"\n",
    "    ,'USE_ODR' : 'hoh'\n",
    "    ,'p_val_corr': 0.05\n",
    "}\n",
    "\n",
    "match model_args['USE_ODR']:\n",
    "    case 'mom':\n",
    "        y_odr = pd.read_csv(Path().joinpath(model_args['BASE'], model_args['ODR_MOM']), sep = \";\",decimal=\".\", parse_dates=[\"pt_date\"],dtype={\"odr_loan\": float})\n",
    "    case 'qoq':\n",
    "        y_odr = pd.read_csv(Path().joinpath(model_args['BASE'], model_args['ODR_QOQ']), sep = \";\",decimal=\".\", parse_dates=[\"pt_date\"],dtype={\"odr_loan\": float})\n",
    "    case 'hoh':\n",
    "        y_odr = pd.read_csv(Path().joinpath(model_args['BASE'], model_args['ODR_HOH']), sep = \";\",decimal=\".\", parse_dates=[\"pt_date\"],dtype={\"odr_loan\": float})\n",
    "    case 'yoy':\n",
    "        y_odr = pd.read_csv(Path().joinpath(model_args['BASE'], model_args['ODR_YOY']), sep = \";\",decimal=\".\", parse_dates=[\"pt_date\"],dtype={\"odr_loan\": float})\n",
    "    case _:\n",
    "        raise ValueError(\"Check variable USE_ODR\")"
   ]
  },
  {
   "cell_type": "markdown",
   "metadata": {},
   "source": [
    "**ODR data loads and multiindex view for ODR variables (y-variable) of each product & tenor.**"
   ]
  },
  {
   "cell_type": "code",
   "execution_count": null,
   "metadata": {},
   "outputs": [],
   "source": [
    "y_odr = y_odr.pivot(index=\"pt_date\",columns=[\"pd_segment\", \"tenor\"], values=\"odr_loan\").drop(axis=1,columns=['Digital_KPL','Digital_EML']).fillna(0.0)\n",
    "product_df = ['_'.join(map(str,x)) for x in y_odr.columns.to_list()]\n",
    "odr_df = [y_odr.iloc[:, x].rename('_'.join([product_df[x], model_args['USE_ODR']])) for x in range(y_odr.shape[1])]"
   ]
  },
  {
   "cell_type": "markdown",
   "metadata": {},
   "source": [
    "**MEV data load and perform Pearson Correlation Test pairwise only for Macroeconomic variable.**"
   ]
  },
  {
   "cell_type": "code",
   "execution_count": 24,
   "metadata": {},
   "outputs": [
    {
     "name": "stderr",
     "output_type": "stream",
     "text": [
      "C:\\Users\\ERFAN-HUDA\\AppData\\Local\\Temp\\ipykernel_2240\\1002325739.py:1: UserWarning: Parsing dates in %d/%m/%Y format when dayfirst=False (the default) was specified. Pass `dayfirst=True` or specify a format to silence this warning.\n",
      "  x_mev = pd.read_csv(Path().joinpath(model_args['BASE'], model_args['MEV_DATA']),sep=\";\",decimal=\",\", index_col=['Date'],parse_dates=[\"Date\"]).fillna(0.0)\n"
     ]
    }
   ],
   "source": [
    "x_mev = pd.read_csv(Path().joinpath(model_args['BASE'], model_args['MEV_DATA']),sep=\";\",decimal=\",\", index_col=['Date'],parse_dates=[\"Date\"]).fillna(0.0)\n",
    "x_mev.index = x_mev.index.to_period(\"M\").to_timestamp(\"M\")"
   ]
  },
  {
   "cell_type": "markdown",
   "metadata": {},
   "source": [
    "**Make 2-pairwise x-variable and y-variable combinations list and merge each of ODR to MEV combinations respectively**"
   ]
  },
  {
   "cell_type": "code",
   "execution_count": 38,
   "metadata": {},
   "outputs": [],
   "source": [
    "permutate = itertools.permutations(x_mev.columns.to_list(), r=2)\n",
    "new_df = [x_mev.copy()[[x[0],x[1]]] for x in list(permutate)]\n",
    "new_df = ((y.name, x.merge(y.to_frame(),left_index=True, right_index=True)) for y in odr_df for x in new_df)"
   ]
  },
  {
   "cell_type": "markdown",
   "metadata": {},
   "source": [
    "**Do Pearson-Correlation Test for each dataset with y-variable**"
   ]
  },
  {
   "cell_type": "code",
   "execution_count": 39,
   "metadata": {},
   "outputs": [
    {
     "data": {
      "text/plain": [
       "49200"
      ]
     },
     "execution_count": 39,
     "metadata": {},
     "output_type": "execute_result"
    }
   ],
   "source": [
    "corr_pairwise = [(i, x[0], x[1].corr(method=\"pearson\")) for i, x in enumerate(new_df.items())]\n",
    "corr_pairwise[0][2]"
   ]
  },
  {
   "cell_type": "code",
   "execution_count": 27,
   "metadata": {},
   "outputs": [
    {
     "data": {
      "text/plain": [
       "1640"
      ]
     },
     "execution_count": 27,
     "metadata": {},
     "output_type": "execute_result"
    }
   ],
   "source": [
    "len(corr_pairwise)\n",
    "len(new_df)"
   ]
  },
  {
   "cell_type": "markdown",
   "metadata": {},
   "source": [
    "**Save to file: pearson-correlation mev & odr_pairwise**"
   ]
  },
  {
   "cell_type": "code",
   "execution_count": 22,
   "metadata": {},
   "outputs": [],
   "source": [
    "x_corr = x_mev.corr(method=\"pearson\", numeric_only=True)\n",
    "x_corr.to_csv(Path().joinpath(model_args[\"OUTPUT\"], \"pearson_corr_mev\"),sep=\";\", decimal=\",\")\n",
    "\n",
    "wb = Workbook()\n",
    "ws = wb.active\n",
    "with pd.ExcelWriter(Path().joinpath(model_args[\"OUTPUT\"], \"pearson_corr_odr.xlsx\"),mode=\"w\") as w:\n",
    "    # w.book = wb\n",
    "    # w.sheets=dict((ws.title, ws) for ws in wb.worksheets)\n",
    "\n",
    "    for item in corr_pairwise:\n",
    "        i, model, data = item[0], item[1], item[2]\n",
    "\n",
    "        data.to_excel(w, sheet_name=f'{i}_{model}')"
   ]
  }
 ],
 "metadata": {
  "kernelspec": {
   "display_name": "machine_learning",
   "language": "python",
   "name": "python3"
  },
  "language_info": {
   "codemirror_mode": {
    "name": "ipython",
    "version": 3
   },
   "file_extension": ".py",
   "mimetype": "text/x-python",
   "name": "python",
   "nbconvert_exporter": "python",
   "pygments_lexer": "ipython3",
   "version": "3.11.7"
  }
 },
 "nbformat": 4,
 "nbformat_minor": 2
}
