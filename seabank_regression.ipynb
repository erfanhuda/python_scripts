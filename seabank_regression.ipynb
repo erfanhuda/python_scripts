{
 "cells": [
  {
   "cell_type": "markdown",
   "metadata": {},
   "source": [
    "**ECL Modeling - Run Regression** <br><br>_Required library: pandas, numpy, scipy, sklearn, itertools, statsmodels, matplotlib_"
   ]
  },
  {
   "cell_type": "code",
   "execution_count": 1,
   "metadata": {},
   "outputs": [],
   "source": [
    "from pathlib import Path\n",
    "import pandas as pd\n",
    "import numpy as np\n",
    "from scipy import stats\n",
    "from sklearn.feature_selection import f_regression\n",
    "from sklearn.linear_model import LinearRegression\n",
    "from sklearn.model_selection import train_test_split\n",
    "from sklearn.metrics import r2_score, mean_absolute_percentage_error, mean_absolute_error, mean_squared_error\n",
    "import statsmodels.api as sm\n",
    "import matplotlib.pyplot as plt\n",
    "import itertools\n",
    "import time\n",
    "\n",
    "t_start = time.time()"
   ]
  },
  {
   "cell_type": "markdown",
   "metadata": {},
   "source": [
    "**Setup Model Arguments**"
   ]
  },
  {
   "cell_type": "code",
   "execution_count": 2,
   "metadata": {},
   "outputs": [],
   "source": [
    "model_args = {\n",
    "    'BASE' : \"D:\\\\Dev\\\\Seabank\\\\python_scripts\\\\file\\\\input\\\\model_Q124\"\n",
    "    ,'OUTPUT' : \"D:\\\\Dev\\\\Seabank\\\\python_scripts\\\\file\\\\input\\\\model_Q124\\\\output\"\n",
    "    ,'MEV_DATA' : \"seabank_data.csv\"\n",
    "    ,'ODR_MOM' : \"pd_odr_mom.csv\"\n",
    "    ,'ODR_QOQ' : \"pd_odr_qoq.csv\"\n",
    "    ,'ODR_HOH' : \"pd_odr_hoh.csv\"\n",
    "    ,'ODR_YOY' : \"pd_odr_yoy.csv\"\n",
    "    ,'USE_ODR' : 'yoy'\n",
    "    ,'drop_products': ['Digital_KPL', 'Digital_EML']\n",
    "}\n",
    "\n",
    "model_start = {\n",
    "    \"Digital_BCL_2\": '2021-11-30',\n",
    "    \"Digital_BCL_3\": '2021-11-30',\n",
    "    \"Digital_BCL_6\": '2021-11-30',\n",
    "    \"Digital_BCL_12\": '2021-11-30',\n",
    "    \"Digital_SPL_1\": '2021-10-31',\n",
    "    \"Digital_SPL_3\": '2021-06-30',\n",
    "    \"Digital_SPL_6\": '2021-06-30',\n",
    "    \"Digital_SPL_12\": '2021-06-30',\n",
    "    \"Digital_SPL_18\": '2023-07-31',\n",
    "    \"Digital_SPL_24\": '2023-07-31',\n",
    "    \"Digital_SCL_3\": '2022-05-31',\n",
    "    \"Digital_SCL_6\": '2022-05-31',\n",
    "    \"Digital_SCL_12\": '2022-05-31',\n",
    "    # \"Digital_AKL_6\": '2023-04-30',\n",
    "    # \"Digital_EAL_6\": '2023-08-31',\n",
    "    # \"Digital_AKL_9\": '2023-07-31',\n",
    "    # \"Digital_AKL_1\": '2023-08-31',\n",
    "    # \"Digital_AKL_3\": '2023-08-31',\n",
    "    # \"Digital_RCL_2\": '2023-08-31',\n",
    "    # \"Digital_RCL_3\": '2023-08-31',\n",
    "    # \"Digital_PYL_24\": '2023-08-31',\n",
    "    # \"Digital_EAL_6\": '2023-08-31',\n",
    "    \n",
    "    # \"Digital_RCL_1\": '2023-08-31',\n",
    "    # \"Digital_EAL_4\": '2023-08-31',\n",
    "    # \"Digital_EAL_8\": '2023-08-31',\n",
    "    # \"Digital_AKL_2\": '2023-08-31',\n",
    "    # \"Digital_EAL_2\": '2023-08-31',\n",
    "    # \"Digital_RCL_4\": '2023-08-31',\n",
    "    # \"Digital_PYL_12\": '2023-08-31',\n",
    "    # \"Digital_PYL_6\": '2023-08-31',\n",
    "    # \"Digital_PYL_18\": '2023-08-31',\n",
    "}"
   ]
  },
  {
   "cell_type": "markdown",
   "metadata": {},
   "source": [
    "**Read data from CSV**"
   ]
  },
  {
   "cell_type": "code",
   "execution_count": 3,
   "metadata": {},
   "outputs": [],
   "source": [
    "try:\n",
    "    match model_args['USE_ODR']:\n",
    "        case 'mom':\n",
    "            y_odr = pd.read_csv(Path().joinpath(model_args['BASE'], model_args['ODR_MOM']), sep = \";\",decimal=\".\", parse_dates=[\"pt_date\"],dtype={\"odr_loan\": float})\n",
    "        case 'qoq':\n",
    "            y_odr = pd.read_csv(Path().joinpath(model_args['BASE'], model_args['ODR_QOQ']), sep = \";\",decimal=\".\", parse_dates=[\"pt_date\"],dtype={\"odr_loan\": float})\n",
    "        case 'hoh':\n",
    "            y_odr = pd.read_csv(Path().joinpath(model_args['BASE'], model_args['ODR_HOH']), sep = \";\",decimal=\".\", parse_dates=[\"pt_date\"],dtype={\"odr_loan\": float})\n",
    "        case 'yoy':\n",
    "            y_odr = pd.read_csv(Path().joinpath(model_args['BASE'], model_args['ODR_YOY']), sep = \";\",decimal=\".\", parse_dates=[\"pt_date\"],dtype={\"odr_loan\": float})\n",
    "        case _:\n",
    "            raise ValueError(\"Check variable USE_ODR\")\n",
    "\n",
    "except AttributeError:\n",
    "    raise AttributeError(\"No argument USE_ODR\")"
   ]
  },
  {
   "cell_type": "markdown",
   "metadata": {},
   "source": [
    "**Data loads and multiindex view for ODR variables (y-variable) of each product & tenor**"
   ]
  },
  {
   "cell_type": "code",
   "execution_count": 4,
   "metadata": {},
   "outputs": [],
   "source": [
    "try:\n",
    "    if len(model_args['drop_columns']) > 0:\n",
    "        y_odr = y_odr.pivot(index=\"pt_date\",columns=[\"pd_segment\", \"tenor\"], values=\"odr_loan\").drop(axis=1,columns=model_args['drop_products']).fillna(0.0)\n",
    "    else:\n",
    "        y_odr = y_odr.pivot(index=\"pt_date\",columns=[\"pd_segment\", \"tenor\"], values=\"odr_loan\").fillna(0.0)\n",
    "        \n",
    "except KeyError:\n",
    "    y_odr = y_odr.pivot(index=\"pt_date\",columns=[\"pd_segment\", \"tenor\"], values=\"odr_loan\").fillna(0.0)\n",
    "\n",
    "product_df = ['_'.join(map(str,x)) for x in y_odr.columns.to_list()]\n",
    "odr_df = [y_odr.iloc[:, x].rename(product_df[x])for x in range(y_odr.shape[1])]\n",
    "odr_df = [x for x in odr_df if x.name in model_start] # Additional filtering based on arguments testing\n",
    "odr_df = [x[pd.Timestamp(model_start[x.name]):] for x in odr_df] # Additional filtering date_model for remove the leading zero of ODR"
   ]
  },
  {
   "cell_type": "markdown",
   "metadata": {},
   "source": [
    "**Data load Macroeconomic variable**"
   ]
  },
  {
   "cell_type": "code",
   "execution_count": 5,
   "metadata": {},
   "outputs": [
    {
     "name": "stderr",
     "output_type": "stream",
     "text": [
      "C:\\Users\\ERFAN-HUDA\\AppData\\Local\\Temp\\ipykernel_836\\1002325739.py:1: UserWarning: Parsing dates in %d/%m/%Y format when dayfirst=False (the default) was specified. Pass `dayfirst=True` or specify a format to silence this warning.\n",
      "  x_mev = pd.read_csv(Path().joinpath(model_args['BASE'], model_args['MEV_DATA']),sep=\";\",decimal=\",\", index_col=['Date'],parse_dates=[\"Date\"]).fillna(0.0)\n"
     ]
    }
   ],
   "source": [
    "x_mev = pd.read_csv(Path().joinpath(model_args['BASE'], model_args['MEV_DATA']),sep=\";\",decimal=\",\", index_col=['Date'],parse_dates=[\"Date\"]).fillna(0.0)\n",
    "x_mev.index = x_mev.index.to_period(\"M\").to_timestamp(\"M\")"
   ]
  },
  {
   "cell_type": "markdown",
   "metadata": {},
   "source": [
    "**Do Pearson-Correlation for MEV dataset and MEV dataset with each y-variable**"
   ]
  },
  {
   "cell_type": "code",
   "execution_count": 6,
   "metadata": {},
   "outputs": [],
   "source": [
    "x_corr = x_mev.corr(method=\"pearson\", numeric_only=True)\n",
    "\n",
    "corr_pairwise = ((x.name, x_mev.merge(x,left_index=True, right_index=True)) for x in odr_df)\n",
    "corr_pairwise = ((x[0],x[1].corr()) for x in corr_pairwise)"
   ]
  },
  {
   "cell_type": "markdown",
   "metadata": {},
   "source": [
    "**Make 1-pairwise x and y-variable for SFA**"
   ]
  },
  {
   "cell_type": "code",
   "execution_count": 7,
   "metadata": {},
   "outputs": [],
   "source": [
    "permutate = itertools.permutations(x_mev.columns.to_list(), r=1)\n",
    "sfa_df = [x_mev.copy()[x[0]] for x in list(permutate)]\n",
    "sfa_df = [(y.name, pd.concat([x, y.to_frame(name=\"odr_loan\")], axis=1).fillna(0.0)) for y in odr_df for x in sfa_df]"
   ]
  },
  {
   "cell_type": "markdown",
   "metadata": {},
   "source": [
    "**Make 2-pairwise x and y-variable for MFA**"
   ]
  },
  {
   "cell_type": "code",
   "execution_count": 8,
   "metadata": {},
   "outputs": [],
   "source": [
    "permutate = itertools.permutations(x_mev.columns.to_list(), r=2)\n",
    "mfa_df = [x_mev.copy()[[x[0],x[1]]] for x in list(permutate)]\n",
    "mfa_df = [(y.name, x.merge(y.to_frame(name=\"odr_loan\"),left_index=True, right_index=True).fillna(0.0)) for y in odr_df for x in mfa_df]"
   ]
  },
  {
   "cell_type": "markdown",
   "metadata": {},
   "source": [
    "**Make 3-pairwise x and y-variable for MFA**"
   ]
  },
  {
   "cell_type": "code",
   "execution_count": 10,
   "metadata": {},
   "outputs": [],
   "source": [
    "permutate = itertools.permutations(x_mev.columns.to_list(), r=3)\n",
    "mfa3_df = [x_mev.copy()[[x[0],x[1]]] for x in list(permutate)]\n",
    "mfa3_df = [(y.name, x.merge(y.to_frame(name=\"odr_loan\"),left_index=True, right_index=True).fillna(0.0)) for y in odr_df for x in mfa3_df]"
   ]
  },
  {
   "cell_type": "markdown",
   "metadata": {},
   "source": [
    "**Regression Testing Load**"
   ]
  },
  {
   "cell_type": "code",
   "execution_count": null,
   "metadata": {},
   "outputs": [],
   "source": [
    "lr_sfa_pairwise = [{'model': f'{x[0]}_{i}', 'mev':x[1].drop([\"odr_loan\"], axis=1), 'odr_loan':x[1]['odr_loan']} for i, x in enumerate(sfa_df)]\n",
    "lr_mfa_pairwise = [{'model': f'{x[0]}_{i}', 'mev':x[1].drop([\"odr_loan\"], axis=1), 'odr_loan':x[1]['odr_loan']} for i, x in enumerate(mfa_df)]\n",
    "lr_mfa3_pairwise = [{'model': f'{x[0]}_{i}', 'mev':x[1].drop([\"odr_loan\"], axis=1), 'odr_loan':x[1]['odr_loan']} for i, x in enumerate(mfa3_df)]\n",
    "\n",
    "model_count = {'count_1pairs': len(lr_sfa_pairwise), 'count_2pairs':len(lr_mfa_pairwise).'count_3pairs':len(lr_mfa3_pairwise)}\n",
    "model_count"
   ]
  },
  {
   "cell_type": "markdown",
   "metadata": {},
   "source": [
    "**1_Single SFA Regression**"
   ]
  },
  {
   "cell_type": "code",
   "execution_count": null,
   "metadata": {},
   "outputs": [],
   "source": [
    "sfa_models = [{\"id\": i, \"product\": x[0], 'model': f'{\"X\".join(x[1].columns)}','min_date':x[1].index.min(),'max_date':x[1].index.max(),'y': x[1]['odr_loan'], 'x':x[1].drop(['odr_loan'], axis=1)} for i, x in enumerate(sfa_df)]\n",
    "sfa_result = []\n",
    "\n",
    "for item in sfa_models:\n",
    "    y = item['y']\n",
    "    x = item['x']\n",
    "    \n",
    "    lr = LinearRegression()\n",
    "    _run = lr.fit(x, y)\n",
    "    \n",
    "    _result = {\"id\": item['id'], \"product\": item['product'], \"start_date\": item['min_date'],\"end_date\": item['max_date'], \"x\": item['x'].columns[0], \"y\": item['y'].name}\n",
    "    _result['intercept'] = _run.intercept_\n",
    "    _result['coef'] = _run.coef_\n",
    "    _result['p_value'], _result['t_value'] = f_regression(x, y)\n",
    "\n",
    "    y_fitted = lr.predict(x)\n",
    "    _result['r2_score'] = r2_score(y, y_fitted)\n",
    "    _result['mape'] = mean_absolute_percentage_error(y, y_fitted)\n",
    "    _result['mae'] = mean_absolute_error(y, y_fitted)\n",
    "    _result['mse'] = mean_squared_error(y, y_fitted)\n",
    "\n",
    "    _result['treshold1'] = np.where((_result['p_value'] < 0.05) & (_result['r2_score'] > 0.6), \"Y\", \"N\")\n",
    "    _result['treshold2'] = np.where((_result['p_value'] < 0.05) & (_result['r2_score'] > 0.5), \"Y\", \"N\")\n",
    "    _result['treshold3'] = np.where((_result['p_value'] < 0.1) & (_result['r2_score'] > 0.4), \"Y\", \"N\")\n",
    "\n",
    "    item['y_fitted'] = y_fitted\n",
    "    sfa_result.append(_result)"
   ]
  },
  {
   "cell_type": "markdown",
   "metadata": {},
   "source": [
    "**2_Combination MFA Regression**"
   ]
  },
  {
   "cell_type": "code",
   "execution_count": null,
   "metadata": {},
   "outputs": [],
   "source": [
    "mfa_models = [{\"id\": i, \"product\": x[0], 'model': f'{\"X\".join(x[1].columns)}','min_date':x[1].index.min(),'max_date':x[1].index.max(),'y': x[1]['odr_loan'], 'xs':x[1].drop(['odr_loan'], axis=1)} for i, x in enumerate(mfa_df)]\n",
    "mfa_result = []\n",
    "\n",
    "for item in mfa_models:\n",
    "    y = item['y']\n",
    "    x = item['xs']\n",
    "    \n",
    "    lr = LinearRegression()\n",
    "    _run = lr.fit(x, y)\n",
    "    \n",
    "    _result = {\"id\": item['id'], \"product\": item['product'], \"start_date\": item['min_date'],\"end_date\": item['max_date'],\"x1\": item['xs'].columns[0], \"x2\": item['xs'].columns[1], \"y\": item['y'].name}\n",
    "    _result['intercept'] = _run.intercept_\n",
    "    _result['coef_1'] = _run.coef_[0]\n",
    "    _result['coef_2'] = _run.coef_[1]\n",
    "\n",
    "    _f_result = f_regression(x, y)\n",
    "    _result['p_value_1'] = _f_result[0][0]\n",
    "    _result['p_value_2'] = _f_result[0][1]\n",
    "    _result['t_value_1'] = _f_result[1][0]\n",
    "    _result['t_value_2'] = _f_result[1][1]\n",
    "\n",
    "    y_fitted = lr.predict(x)\n",
    "    _result['r2_score'] = r2_score(y, y_fitted)\n",
    "    _result['mape'] = mean_absolute_percentage_error(y, y_fitted)\n",
    "    _result['mae'] = mean_absolute_error(y, y_fitted)\n",
    "    _result['mse'] = mean_squared_error(y, y_fitted)\n",
    "\n",
    "    _result['treshold_1'] = np.where((_result['p_value_1'] < 0.05) & (_result['p_value_2'] < 0.05) & (_result['r2_score'] > 0.6), \"Y\", \"N\")\n",
    "    _result['treshold_2'] = np.where((_result['p_value_1'] < 0.05) & (_result['p_value_2'] < 0.05) & (_result['r2_score'] > 0.5), \"Y\", \"N\")\n",
    "    _result['treshold_3'] = np.where((_result['p_value_1'] < 0.1) & (_result['p_value_2'] < 0.1) & (_result['r2_score'] > 0.4), \"Y\", \"N\")\n",
    "\n",
    "    item['y_fitted'] = y_fitted\n",
    "    mfa_result.append(_result)"
   ]
  },
  {
   "cell_type": "markdown",
   "metadata": {},
   "source": [
    "**3_Combination MFA Regression**"
   ]
  },
  {
   "cell_type": "code",
   "execution_count": null,
   "metadata": {},
   "outputs": [],
   "source": [
    "mfa3_models = [{\"id\": i, \"product\": x[0], 'model': f'{\"X\".join(x[1].columns)}','min_date':x[1].index.min(),'max_date':x[1].index.max(),'y': x[1]['odr_loan'], 'xs':x[1].drop(['odr_loan'], axis=1)} for i, x in enumerate(mfa3_df)]\n",
    "mfa3_result = []\n",
    "\n",
    "for item in mfa3_models:\n",
    "    y = item['y']\n",
    "    x = item['xs']\n",
    "    \n",
    "    lr = LinearRegression()\n",
    "    _run = lr.fit(x, y)\n",
    "    \n",
    "    _result = {\"id\": item['id'], \"product\": item['product'], \"start_date\": item['min_date'],\"end_date\": item['max_date'],\"x1\": item['xs'].columns[0], \"x2\": item['xs'].columns[1],\"x3\": item['xs'].columns[2], \"y\": item['y'].name}\n",
    "    _result['intercept'] = _run.intercept_\n",
    "    _result['coef_1'] = _run.coef_[0]\n",
    "    _result['coef_2'] = _run.coef_[1]\n",
    "    _result['coef_3'] = _run.coef_[2]\n",
    "\n",
    "    _f_result = f_regression(x, y)\n",
    "    _result['p_value_1'] = _f_result[0][0]\n",
    "    _result['p_value_2'] = _f_result[0][1]\n",
    "    _result['p_value_3'] = _f_result[0][2]\n",
    "    _result['t_value_1'] = _f_result[1][0]\n",
    "    _result['t_value_2'] = _f_result[1][1]\n",
    "    _result['t_value_3'] = _f_result[1][2]\n",
    "\n",
    "    y_fitted = lr.predict(x)\n",
    "    _result['r2_score'] = r2_score(y, y_fitted)\n",
    "    _result['mape'] = mean_absolute_percentage_error(y, y_fitted)\n",
    "    _result['mae'] = mean_absolute_error(y, y_fitted)\n",
    "    _result['mse'] = mean_squared_error(y, y_fitted)\n",
    "\n",
    "    _result['treshold_1'] = np.where((_result['p_value_1'] < 0.05) & (_result['p_value_2'] < 0.05) & (_result['p_value_3'] < 0.05) & (_result['r2_score'] > 0.6), \"Y\", \"N\")\n",
    "    _result['treshold_2'] = np.where((_result['p_value_1'] < 0.05) & (_result['p_value_2'] < 0.05) & (_result['p_value_3'] < 0.05) & (_result['r2_score'] > 0.5), \"Y\", \"N\")\n",
    "    _result['treshold_3'] = np.where((_result['p_value_1'] < 0.1) & (_result['p_value_2'] < 0.1) & (_result['p_value_3'] < 0.05) & (_result['r2_score'] > 0.4), \"Y\", \"N\")\n",
    "\n",
    "    item['y_fitted'] = y_fitted\n",
    "    mfa3_result.append(_result)"
   ]
  },
  {
   "cell_type": "markdown",
   "metadata": {},
   "source": [
    "**Save to file: <br>1. pearson-correlation mev <br>2. pearson-correlation odr_pairwise <br>3. SFA Result <br>4. MFA Result <br>5. Model Variables**"
   ]
  },
  {
   "cell_type": "code",
   "execution_count": null,
   "metadata": {},
   "outputs": [],
   "source": [
    "sfa_result = pd.DataFrame(sfa_result)\n",
    "mfa_result = pd.DataFrame(mfa_result)\n",
    "mfa3_result = pd.DataFrame(mfa3_result)\n",
    "\n",
    "y_odr.to_excel(Path().joinpath(model_args[\"OUTPUT\"], \"_\".join([model_args['USE_ODR'],\"variable_list.xlsx\"])), sheet_name=\"odr\")\n",
    "\n",
    "with pd.ExcelWriter(Path().joinpath(model_args[\"OUTPUT\"], \"_\".join([model_args['USE_ODR'],\"variable_list.xlsx\"])),mode=\"a\") as w:\n",
    "    x_mev.to_excel(w, sheet_name='mev')\n",
    "    \n",
    "x_corr.to_excel(Path().joinpath(model_args[\"OUTPUT\"], \"_\".join([model_args['USE_ODR'],\"pearson_corr.xlsx\"])), sheet_name=\"MEV\")\n",
    "sfa_result.to_excel(Path().joinpath(model_args[\"OUTPUT\"], \"_\".join([model_args['USE_ODR'],\"sfa_result.xlsx\"])), sheet_name=\"SFA_Result\")\n",
    "mfa_result.to_excel(Path().joinpath(model_args[\"OUTPUT\"], \"_\".join([model_args['USE_ODR'],\"mfa_result.xlsx\"])), sheet_name=\"MFA_Result\")\n",
    "mfa3_result.to_excel(Path().joinpath(model_args[\"OUTPUT\"], \"_\".join([model_args['USE_ODR'],\"mfa3_result.xlsx\"])), sheet_name=\"MFA_Result\")\n",
    "\n",
    "with pd.ExcelWriter(Path().joinpath(model_args[\"OUTPUT\"], \"_\".join([model_args['USE_ODR'],\"pearson_corr.xlsx\"])),mode=\"a\") as w:\n",
    "    for i, item in enumerate(corr_pairwise):\n",
    "        model, data = item[0], item[1]\n",
    "        data.to_excel(w, sheet_name=f'{i}_{model}')\n",
    "\n",
    "check_result = []\n",
    "for item in mfa_models:\n",
    "    check = {'id': item['id'], 'product': item['product'], 'model': item['model'],'len_xs': len(item['xs']), 'len_y': len(item['y'])}\n",
    "    check_result.append(check)\n",
    "\n",
    "check_result = pd.DataFrame(check_result)\n",
    "with pd.ExcelWriter(Path().joinpath(model_args[\"OUTPUT\"], \"_\".join([model_args['USE_ODR'],\"variable_list.xlsx\"])),mode=\"a\") as w:\n",
    "    check_result.to_excel(w, sheet_name='model_variable_check')\n",
    "\n",
    "t_end = time.time()\n",
    "print(\"Script finished on: \", t_end - t_start)"
   ]
  }
 ],
 "metadata": {
  "kernelspec": {
   "display_name": "machine_learning",
   "language": "python",
   "name": "python3"
  },
  "language_info": {
   "codemirror_mode": {
    "name": "ipython",
    "version": 3
   },
   "file_extension": ".py",
   "mimetype": "text/x-python",
   "name": "python",
   "nbconvert_exporter": "python",
   "pygments_lexer": "ipython3",
   "version": "3.11.7"
  }
 },
 "nbformat": 4,
 "nbformat_minor": 2
}
